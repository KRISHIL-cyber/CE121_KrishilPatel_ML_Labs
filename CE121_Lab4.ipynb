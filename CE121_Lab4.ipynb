{
  "nbformat": 4,
  "nbformat_minor": 0,
  "metadata": {
    "colab": {
      "name": "CE121_Lab4.ipynb",
      "provenance": [],
      "collapsed_sections": []
    },
    "kernelspec": {
      "name": "python3",
      "display_name": "Python 3"
    },
    "language_info": {
      "name": "python"
    }
  },
  "cells": [
    {
      "cell_type": "markdown",
      "source": [
        "#Task 1"
      ],
      "metadata": {
        "id": "hR9iIm2lQdQ0"
      }
    },
    {
      "cell_type": "code",
      "execution_count": null,
      "metadata": {
        "id": "v82VLDj5E2he"
      },
      "outputs": [],
      "source": [
        "import numpy as np\n",
        "import torch\n",
        "import matplotlib.pyplot as plt"
      ]
    },
    {
      "cell_type": "code",
      "source": [
        "#Temp, Rain, Humidity\n",
        "inputs = np.array([[73, 67, 43],\n",
        "                    [91, 88, 64],\n",
        "                    [87, 134, 58],\n",
        "                    [102, 43, 37],\n",
        "                    [69, 96, 70]], dtype='float32')"
      ],
      "metadata": {
        "id": "rkW1pw1dFHcv"
      },
      "execution_count": null,
      "outputs": []
    },
    {
      "cell_type": "code",
      "source": [
        "#yield prediction of apple\n",
        "targets = np.array([[56],\n",
        "                    [81],\n",
        "                    [119],\n",
        "                    [22],\n",
        "                    [103]], dtype='float32')"
      ],
      "metadata": {
        "id": "Y5-OkASnFhbU"
      },
      "execution_count": null,
      "outputs": []
    },
    {
      "cell_type": "code",
      "source": [
        "data = torch.from_numpy(inputs)\n",
        "labels = torch.from_numpy(targets)\n",
        "print(data)\n",
        "print(labels)"
      ],
      "metadata": {
        "colab": {
          "base_uri": "https://localhost:8080/"
        },
        "id": "Mwk418LMeSiN",
        "outputId": "399ae1d7-9eaf-4654-a1a5-c38d233879d8"
      },
      "execution_count": null,
      "outputs": [
        {
          "output_type": "stream",
          "name": "stdout",
          "text": [
            "tensor([[ 73.,  67.,  43.],\n",
            "        [ 91.,  88.,  64.],\n",
            "        [ 87., 134.,  58.],\n",
            "        [102.,  43.,  37.],\n",
            "        [ 69.,  96.,  70.]])\n",
            "tensor([[ 56.],\n",
            "        [ 81.],\n",
            "        [119.],\n",
            "        [ 22.],\n",
            "        [103.]])\n"
          ]
        }
      ]
    },
    {
      "cell_type": "code",
      "source": [
        "print(data.size())\n",
        "print(labels.size())"
      ],
      "metadata": {
        "colab": {
          "base_uri": "https://localhost:8080/"
        },
        "id": "RJZnMhbseTq-",
        "outputId": "e0776af9-f0a0-4969-ad56-bd82605efe72"
      },
      "execution_count": null,
      "outputs": [
        {
          "output_type": "stream",
          "name": "stdout",
          "text": [
            "torch.Size([5, 3])\n",
            "torch.Size([5, 1])\n"
          ]
        }
      ]
    },
    {
      "cell_type": "code",
      "source": [
        "n=data.size()[1] #number of features\n",
        "#weights and bias\n",
        "w = torch.zeros(1,n,requires_grad=True)\n",
        "b = torch.zeros(1,requires_grad=True)\n",
        "print(w)\n",
        "print(b)\n",
        "print(w.size())\n",
        "print(b.size())"
      ],
      "metadata": {
        "colab": {
          "base_uri": "https://localhost:8080/"
        },
        "id": "0b11bAv5eUIm",
        "outputId": "c1c713fc-19ce-424b-a839-f8c5661821bb"
      },
      "execution_count": null,
      "outputs": [
        {
          "output_type": "stream",
          "name": "stdout",
          "text": [
            "tensor([[0., 0., 0.]], requires_grad=True)\n",
            "tensor([0.], requires_grad=True)\n",
            "torch.Size([1, 3])\n",
            "torch.Size([1])\n"
          ]
        }
      ]
    },
    {
      "cell_type": "code",
      "source": [
        "#Defining model\n",
        "def model(X):\n",
        "  return X @ w.t() + b"
      ],
      "metadata": {
        "id": "ak02ml0QeUk5"
      },
      "execution_count": null,
      "outputs": []
    },
    {
      "cell_type": "code",
      "source": [
        "#Generating Predictions\n",
        "y_predict = model(data)\n",
        "print(\"Predictions: \", y_predict)\n",
        "print(\"\\nActual Targets: \", labels)"
      ],
      "metadata": {
        "colab": {
          "base_uri": "https://localhost:8080/"
        },
        "id": "ElMOq_WeeVIg",
        "outputId": "9cd8e3a3-d7a7-4b4b-c0c0-c06189d62148"
      },
      "execution_count": null,
      "outputs": [
        {
          "output_type": "stream",
          "name": "stdout",
          "text": [
            "Predictions:  tensor([[0.],\n",
            "        [0.],\n",
            "        [0.],\n",
            "        [0.],\n",
            "        [0.]], grad_fn=<AddBackward0>)\n",
            "\n",
            "Actual Targets:  tensor([[ 56.],\n",
            "        [ 81.],\n",
            "        [119.],\n",
            "        [ 22.],\n",
            "        [103.]])\n"
          ]
        }
      ]
    },
    {
      "cell_type": "code",
      "source": [
        "#MSE loss\n",
        "def MSEloss(predictions,targets):\n",
        "  diff= predictions-targets\n",
        "  return torch.sum(diff*diff)/diff.numel()"
      ],
      "metadata": {
        "id": "m_4pPMbSeVx0"
      },
      "execution_count": null,
      "outputs": []
    },
    {
      "cell_type": "code",
      "source": [
        "#Computing loss\n",
        "print(\"Loss: \", MSEloss(y_predict,labels))"
      ],
      "metadata": {
        "colab": {
          "base_uri": "https://localhost:8080/"
        },
        "id": "Flk4hGnAhj3Q",
        "outputId": "21142805-d188-4ef2-cebc-dc8eea5a4036"
      },
      "execution_count": null,
      "outputs": [
        {
          "output_type": "stream",
          "name": "stdout",
          "text": [
            "Loss:  tensor(6990.2002, grad_fn=<DivBackward0>)\n"
          ]
        }
      ]
    },
    {
      "cell_type": "code",
      "source": [
        "#Computing gradients\n",
        "epochs = 100\n",
        "learning_rate = 0.00005\n",
        "\n",
        "for i in range(epochs):\n",
        "  preds = model(data)\n",
        "  loss = MSEloss(preds,labels)\n",
        "  loss.backward()\n",
        "  with torch.no_grad():\n",
        "        print(w.grad, '\\n', b.grad)\n",
        "        w -= w.grad * learning_rate\n",
        "        b -= b.grad * learning_rate\n",
        "        w.grad.zero_()\n",
        "        b.grad.zero_()\n",
        "  print(f\"Epoch {i}/{epochs}: Loss: {loss}\")"
      ],
      "metadata": {
        "colab": {
          "base_uri": "https://localhost:8080/"
        },
        "id": "85jKWkvBhjr_",
        "outputId": "a882b54b-0a8d-4f49-e52c-379f9f243369"
      },
      "execution_count": null,
      "outputs": [
        {
          "output_type": "stream",
          "name": "stdout",
          "text": [
            "tensor([[-12465.2002, -15064.0010,  -9007.2002]]) \n",
            " tensor([-152.4000])\n",
            "Epoch 0/100: Loss: 6990.2001953125\n",
            "tensor([[11386.0146, 10664.1279,  6847.7070]]) \n",
            " tensor([130.7685])\n",
            "Epoch 1/100: Loss: 4510.54443359375\n",
            "tensor([[-7574.1211, -9603.6016, -5681.8125]]) \n",
            " tensor([-93.8790])\n",
            "Epoch 2/100: Loss: 2943.03466796875\n",
            "tensor([[7333.2314, 6503.7153, 4238.5996]]) \n",
            " tensor([83.1719])\n",
            "Epoch 3/100: Loss: 1948.142578125\n",
            "tensor([[-4541.1514, -6164.5552, -3598.2659]]) \n",
            " tensor([-57.4587])\n",
            "Epoch 4/100: Loss: 1313.21728515625\n",
            "tensor([[4772.6519, 3922.5488, 2609.3716]]) \n",
            " tensor([53.2176])\n",
            "Epoch 5/100: Loss: 905.0109252929688\n",
            "tensor([[-2667.3223, -3992.9026, -2291.9531]]) \n",
            " tensor([-34.8409])\n",
            "Epoch 6/100: Loss: 639.9791259765625\n",
            "tensor([[3148.6641, 2326.6887, 1592.8285]]) \n",
            " tensor([34.3222])\n",
            "Epoch 7/100: Loss: 465.69134521484375\n",
            "tensor([[-1515.7661, -2616.6245, -1472.1797]]) \n",
            " tensor([-20.8374])\n",
            "Epoch 8/100: Loss: 349.2040100097656\n",
            "tensor([[2113.3088, 1344.8997,  959.2972]]) \n",
            " tensor([22.3647])\n",
            "Epoch 9/100: Loss: 269.78106689453125\n",
            "tensor([[ -813.5357, -1740.1216,  -957.0519]]) \n",
            " tensor([-12.2048])\n",
            "Epoch 10/100: Loss: 214.33938598632812\n",
            "tensor([[1448.5653,  745.2170,  565.1245]]) \n",
            " tensor([14.7645])\n",
            "Epoch 11/100: Loss: 174.59683227539062\n",
            "tensor([[ -390.1788, -1178.1921,  -632.7418]]) \n",
            " tensor([-6.9162])\n",
            "Epoch 12/100: Loss: 145.2872772216797\n",
            "tensor([[1017.7522,  382.7787,  320.4718]]) \n",
            " tensor([9.9050])\n",
            "Epoch 13/100: Loss: 123.04093170166016\n",
            "tensor([[-139.3372, -814.7435, -428.0133]]) \n",
            " tensor([-3.7057])\n",
            "Epoch 14/100: Loss: 105.68453216552734\n",
            "tensor([[735.1075, 167.1801, 169.1633]]) \n",
            " tensor([6.7732])\n",
            "Epoch 15/100: Loss: 91.80042266845703\n",
            "tensor([[   5.2884, -576.9399, -298.2765]]) \n",
            " tensor([-1.7830])\n",
            "Epoch 16/100: Loss: 80.4513931274414\n",
            "tensor([[546.7574,  42.0619,  76.0802]]) \n",
            " tensor([4.7337])\n",
            "Epoch 17/100: Loss: 71.00682830810547\n",
            "tensor([[  84.9632, -419.0378, -215.6161]]) \n",
            " tensor([-0.6553])\n",
            "Epoch 18/100: Loss: 63.03327178955078\n",
            "tensor([[418.8029, -27.6646,  19.2722]]) \n",
            " tensor([3.3876])\n",
            "Epoch 19/100: Loss: 56.22517776489258\n",
            "tensor([[ 125.3172, -312.2606, -162.5502]]) \n",
            " tensor([-0.0155])\n",
            "Epoch 20/100: Loss: 50.36190414428711\n",
            "tensor([[329.8660, -63.8009, -14.9741]]) \n",
            " tensor([2.4841])\n",
            "Epoch 21/100: Loss: 45.278682708740234\n",
            "tensor([[ 142.2272, -238.4636, -128.1234]]) \n",
            " tensor([0.3273])\n",
            "Epoch 22/100: Loss: 40.84967041015625\n",
            "tensor([[266.4168, -79.8593, -35.2251]]) \n",
            " tensor([1.8652])\n",
            "Epoch 23/100: Loss: 36.97566223144531\n",
            "tensor([[ 145.4861, -186.1699, -105.4657]]) \n",
            " tensor([0.4916])\n",
            "Epoch 24/100: Loss: 33.57708740234375\n",
            "tensor([[219.8598, -84.1777, -46.8259]]) \n",
            " tensor([1.4310])\n",
            "Epoch 25/100: Loss: 30.588464736938477\n",
            "tensor([[ 141.0918, -148.0980,  -90.2703]]) \n",
            " tensor([0.5506])\n",
            "Epoch 26/100: Loss: 27.955163955688477\n",
            "tensor([[184.7047, -81.8674, -53.1058]]) \n",
            " tensor([1.1185])\n",
            "Epoch 27/100: Loss: 25.630878448486328\n",
            "tensor([[ 132.6899, -119.5946,  -79.8290]]) \n",
            " tensor([0.5491])\n",
            "Epoch 28/100: Loss: 23.57643699645996\n",
            "tensor([[157.4121, -76.0417, -56.1394]]) \n",
            " tensor([0.8872])\n",
            "Epoch 29/100: Loss: 21.757781982421875\n",
            "tensor([[122.4652, -97.6670, -72.4388]]) \n",
            " tensor([0.5148])\n",
            "Epoch 30/100: Loss: 20.145679473876953\n",
            "tensor([[135.6796, -68.5678, -57.2138]]) \n",
            " tensor([0.7113])\n",
            "Epoch 31/100: Loss: 18.714628219604492\n",
            "tensor([[111.7007, -80.3706, -67.0253]]) \n",
            " tensor([0.4643])\n",
            "Epoch 32/100: Loss: 17.442508697509766\n",
            "tensor([[117.9882, -60.5476, -57.1267]]) \n",
            " tensor([0.5741])\n",
            "Epoch 33/100: Loss: 16.309886932373047\n",
            "tensor([[101.1264, -66.4236, -62.9080]]) \n",
            " tensor([0.4072])\n",
            "Epoch 34/100: Loss: 15.299917221069336\n",
            "tensor([[103.3162, -52.6125, -56.3713]]) \n",
            " tensor([0.4645])\n",
            "Epoch 35/100: Loss: 14.397790908813477\n",
            "tensor([[ 91.1340, -54.9692, -59.6552]]) \n",
            " tensor([0.3495])\n",
            "Epoch 36/100: Loss: 13.590513229370117\n",
            "tensor([[ 90.9695, -45.0995, -55.2464]]) \n",
            " tensor([0.3753])\n",
            "Epoch 37/100: Loss: 12.866732597351074\n",
            "tensor([[ 81.9091, -45.4254, -56.9925]]) \n",
            " tensor([0.2941])\n",
            "Epoch 38/100: Loss: 12.216474533081055\n",
            "tensor([[ 80.4573, -38.1775, -53.9359]]) \n",
            " tensor([0.3017])\n",
            "Epoch 39/100: Loss: 11.631010055541992\n",
            "tensor([[ 73.5231, -37.3795, -54.7397]]) \n",
            " tensor([0.2428])\n",
            "Epoch 40/100: Loss: 11.102594375610352\n",
            "tensor([[ 71.4237, -31.9142, -52.5510]]) \n",
            " tensor([0.2400])\n",
            "Epoch 41/100: Loss: 10.624610900878906\n",
            "tensor([[ 65.9747, -30.5391, -52.7817]]) \n",
            " tensor([0.1962])\n",
            "Epoch 42/100: Loss: 10.191056251525879\n",
            "tensor([[ 63.6112, -26.3108, -51.1537]]) \n",
            " tensor([0.1879])\n",
            "Epoch 43/100: Loss: 9.796782493591309\n",
            "tensor([[ 59.2226, -24.6896, -51.0433]]) \n",
            " tensor([0.1545])\n",
            "Epoch 44/100: Loss: 9.437199592590332\n",
            "tensor([[ 56.8215, -21.3378, -49.7795]]) \n",
            " tensor([0.1437])\n",
            "Epoch 45/100: Loss: 9.108309745788574\n",
            "tensor([[ 53.2091, -19.6659, -49.4729]]) \n",
            " tensor([0.1175])\n",
            "Epoch 46/100: Loss: 8.806614875793457\n",
            "tensor([[ 50.8947, -16.9547, -48.4504]]) \n",
            " tensor([0.1059])\n",
            "Epoch 47/100: Loss: 8.529020309448242\n",
            "tensor([[ 47.8734, -15.3347, -48.0321]]) \n",
            " tensor([0.0851])\n",
            "Epoch 48/100: Loss: 8.272786140441895\n",
            "tensor([[ 45.7059, -13.1094, -47.1754]]) \n",
            " tensor([0.0736])\n",
            "Epoch 49/100: Loss: 8.035551071166992\n",
            "tensor([[ 43.1427, -11.6003, -46.7004]]) \n",
            " tensor([0.0566])\n",
            "Epoch 50/100: Loss: 7.815225124359131\n",
            "tensor([[ 41.1548,  -9.7463, -45.9563]]) \n",
            " tensor([0.0458])\n",
            "Epoch 51/100: Loss: 7.609928131103516\n",
            "tensor([[ 38.9581,  -8.3721, -45.4560]]) \n",
            " tensor([0.0319])\n",
            "Epoch 52/100: Loss: 7.418084621429443\n",
            "tensor([[ 37.1532,  -6.8166, -44.7947]]) \n",
            " tensor([0.0221])\n",
            "Epoch 53/100: Loss: 7.238221168518066\n",
            "tensor([[ 35.2545,  -5.5860, -44.2884]]) \n",
            " tensor([0.0105])\n",
            "Epoch 54/100: Loss: 7.069052219390869\n",
            "tensor([[ 33.6320,  -4.2692, -43.6865]]) \n",
            " tensor([0.0017])\n",
            "Epoch 55/100: Loss: 6.909588813781738\n",
            "tensor([[ 31.9795,  -3.1809, -43.1862]]) \n",
            " tensor([-0.0079])\n",
            "Epoch 56/100: Loss: 6.758732795715332\n",
            "tensor([[ 30.5290,  -2.0596, -42.6289]]) \n",
            " tensor([-0.0157])\n",
            "Epoch 57/100: Loss: 6.615703582763672\n",
            "tensor([[ 29.0827,  -1.1065, -42.1412]]) \n",
            " tensor([-0.0238])\n",
            "Epoch 58/100: Loss: 6.479700565338135\n",
            "tensor([[ 27.7888,  -0.1513, -41.6204]]) \n",
            " tensor([-0.0305])\n",
            "Epoch 59/100: Loss: 6.35006046295166\n",
            "tensor([[ 26.5209,   0.6805, -41.1463]]) \n",
            " tensor([-0.0374])\n",
            "Epoch 60/100: Loss: 6.226222038269043\n",
            "tensor([[ 25.3674,   1.4934, -40.6564]]) \n",
            " tensor([-0.0432])\n",
            "Epoch 61/100: Loss: 6.1076250076293945\n",
            "tensor([[ 24.2542,   2.2170, -40.1962]]) \n",
            " tensor([-0.0489])\n",
            "Epoch 62/100: Loss: 5.99385929107666\n",
            "tensor([[ 23.2265,   2.9082, -39.7324]]) \n",
            " tensor([-0.0539])\n",
            "Epoch 63/100: Loss: 5.884459018707275\n",
            "tensor([[ 22.2435,   3.5310, -39.2890]]) \n",
            " tensor([-0.0587])\n",
            "Epoch 64/100: Loss: 5.7790961265563965\n",
            "tensor([[ 21.3339,   4.1240, -38.8436]]) \n",
            " tensor([-0.0629])\n",
            "Epoch 65/100: Loss: 5.677411079406738\n",
            "tensor([[ 20.4617,   4.6548, -38.4180]]) \n",
            " tensor([-0.0670])\n",
            "Epoch 66/100: Loss: 5.579204082489014\n",
            "tensor([[ 19.6522,   5.1571, -37.9925]]) \n",
            " tensor([-0.0705])\n",
            "Epoch 67/100: Loss: 5.484165191650391\n",
            "tensor([[ 18.8824,   5.6133, -37.5796]]) \n",
            " tensor([-0.0738])\n",
            "Epoch 68/100: Loss: 5.392062187194824\n",
            "tensor([[ 18.1603,   6.0363, -37.1722]]) \n",
            " tensor([-0.0768])\n",
            "Epoch 69/100: Loss: 5.302704334259033\n",
            "tensor([[ 17.4780,   6.4240, -36.7731]]) \n",
            " tensor([-0.0795])\n",
            "Epoch 70/100: Loss: 5.215933799743652\n",
            "tensor([[ 16.8351,   6.7802, -36.3807]]) \n",
            " tensor([-0.0820])\n",
            "Epoch 71/100: Loss: 5.131558895111084\n",
            "tensor([[ 16.2298,   7.1084, -35.9942]]) \n",
            " tensor([-0.0842])\n",
            "Epoch 72/100: Loss: 5.049463272094727\n",
            "tensor([[ 15.6549,   7.4045, -35.6169]]) \n",
            " tensor([-0.0862])\n",
            "Epoch 73/100: Loss: 4.969524383544922\n",
            "tensor([[ 15.1181,   7.6816, -35.2415]]) \n",
            " tensor([-0.0879])\n",
            "Epoch 74/100: Loss: 4.8915791511535645\n",
            "tensor([[ 14.6043,   7.9269, -34.8768]]) \n",
            " tensor([-0.0896])\n",
            "Epoch 75/100: Loss: 4.815565586090088\n",
            "tensor([[ 14.1232,   8.1541, -34.5152]]) \n",
            " tensor([-0.0910])\n",
            "Epoch 76/100: Loss: 4.741375923156738\n",
            "tensor([[ 13.6680,   8.3598, -34.1594]]) \n",
            " tensor([-0.0922])\n",
            "Epoch 77/100: Loss: 4.668942451477051\n",
            "tensor([[ 13.2356,   8.5437, -33.8104]]) \n",
            " tensor([-0.0933])\n",
            "Epoch 78/100: Loss: 4.598186016082764\n",
            "tensor([[ 12.8292,   8.7122, -33.4647]]) \n",
            " tensor([-0.0942])\n",
            "Epoch 79/100: Loss: 4.529001712799072\n",
            "tensor([[ 12.4417,   8.8603, -33.1260]]) \n",
            " tensor([-0.0950])\n",
            "Epoch 80/100: Loss: 4.461357116699219\n",
            "tensor([[ 12.0772,   8.9951, -32.7907]]) \n",
            " tensor([-0.0956])\n",
            "Epoch 81/100: Loss: 4.395190238952637\n",
            "tensor([[ 11.7311,   9.1141, -32.4604]]) \n",
            " tensor([-0.0961])\n",
            "Epoch 82/100: Loss: 4.330422401428223\n",
            "tensor([[ 11.4028,   9.2191, -32.1350]]) \n",
            " tensor([-0.0966])\n",
            "Epoch 83/100: Loss: 4.267038822174072\n",
            "tensor([[ 11.0896,   9.3086, -31.8153]]) \n",
            " tensor([-0.0969])\n",
            "Epoch 84/100: Loss: 4.204990386962891\n",
            "tensor([[ 10.7974,   9.3920, -31.4965]]) \n",
            " tensor([-0.0971])\n",
            "Epoch 85/100: Loss: 4.144225597381592\n",
            "tensor([[ 10.5128,   9.4559, -31.1867]]) \n",
            " tensor([-0.0973])\n",
            "Epoch 86/100: Loss: 4.08467960357666\n",
            "tensor([[ 10.2501,   9.5180, -30.8758]]) \n",
            " tensor([-0.0973])\n",
            "Epoch 87/100: Loss: 4.026344299316406\n",
            "tensor([[  9.9939,   9.5632, -30.5733]]) \n",
            " tensor([-0.0973])\n",
            "Epoch 88/100: Loss: 3.9691970348358154\n",
            "tensor([[  9.7547,   9.6041, -30.2716]]) \n",
            " tensor([-0.0972])\n",
            "Epoch 89/100: Loss: 3.913181781768799\n",
            "tensor([[  9.5234,   9.6326, -29.9759]]) \n",
            " tensor([-0.0970])\n",
            "Epoch 90/100: Loss: 3.858250141143799\n",
            "tensor([[  9.3075,   9.6581, -29.6811]]) \n",
            " tensor([-0.0968])\n",
            "Epoch 91/100: Loss: 3.804417848587036\n",
            "tensor([[  9.0958,   9.6694, -29.3940]]) \n",
            " tensor([-0.0965])\n",
            "Epoch 92/100: Loss: 3.751628875732422\n",
            "tensor([[  8.9010,   9.6822, -29.1053]]) \n",
            " tensor([-0.0962])\n",
            "Epoch 93/100: Loss: 3.699876308441162\n",
            "tensor([[  8.7073,   9.6796, -28.8255]]) \n",
            " tensor([-0.0958])\n",
            "Epoch 94/100: Loss: 3.6491141319274902\n",
            "tensor([[  8.5302,   9.6802, -28.5436]]) \n",
            " tensor([-0.0954])\n",
            "Epoch 95/100: Loss: 3.599337339401245\n",
            "tensor([[  8.3551,   9.6689, -28.2688]]) \n",
            " tensor([-0.0949])\n",
            "Epoch 96/100: Loss: 3.550506591796875\n",
            "tensor([[  8.1884,   9.6532, -27.9968]]) \n",
            " tensor([-0.0944])\n",
            "Epoch 97/100: Loss: 3.5026206970214844\n",
            "tensor([[  8.0326,   9.6373, -27.7252]]) \n",
            " tensor([-0.0938])\n",
            "Epoch 98/100: Loss: 3.4556407928466797\n",
            "tensor([[  7.8789,   9.6120, -27.4598]]) \n",
            " tensor([-0.0933])\n",
            "Epoch 99/100: Loss: 3.409550428390503\n"
          ]
        }
      ]
    },
    {
      "cell_type": "code",
      "source": [
        "# Generate predictions\n",
        "preds = model(data)\n",
        "print(\"Prediction is : \", preds)\n",
        "print(\"\\nActual targets is : \", labels)\n",
        "print(\"Loss is : \", MSEloss(preds, labels))"
      ],
      "metadata": {
        "colab": {
          "base_uri": "https://localhost:8080/"
        },
        "id": "Bhn9KgtghjbI",
        "outputId": "4764ee60-c0be-4f8e-aafb-508b55a7cfb2"
      },
      "execution_count": null,
      "outputs": [
        {
          "output_type": "stream",
          "name": "stdout",
          "text": [
            "Prediction is :  tensor([[ 57.3052],\n",
            "        [ 81.1254],\n",
            "        [120.9276],\n",
            "        [ 21.7772],\n",
            "        [ 99.6329]], grad_fn=<AddBackward0>)\n",
            "\n",
            "Actual targets is :  tensor([[ 56.],\n",
            "        [ 81.],\n",
            "        [119.],\n",
            "        [ 22.],\n",
            "        [103.]])\n",
            "Loss is :  tensor(3.3643, grad_fn=<DivBackward0>)\n"
          ]
        }
      ]
    },
    {
      "cell_type": "code",
      "source": [
        ""
      ],
      "metadata": {
        "id": "jSfNzLJUkC3z"
      },
      "execution_count": null,
      "outputs": []
    },
    {
      "cell_type": "code",
      "source": [
        ""
      ],
      "metadata": {
        "id": "v2sm7cAXQJlF"
      },
      "execution_count": null,
      "outputs": []
    },
    {
      "cell_type": "markdown",
      "source": [
        "#Using libraries"
      ],
      "metadata": {
        "id": "adlYRUIplqM-"
      }
    },
    {
      "cell_type": "code",
      "source": [
        "import numpy as np\n",
        "import torch\n",
        "import torch.nn as nn\n",
        "from torch.utils.data import TensorDataset, DataLoader\n",
        "import torch.nn.functional as F"
      ],
      "metadata": {
        "id": "Bw-Ywl7zlpmm"
      },
      "execution_count": null,
      "outputs": []
    },
    {
      "cell_type": "code",
      "source": [
        "# Input (temp, rainfall, humidity)\n",
        "inputs = np.array([[73, 67, 43], \n",
        "                   [91, 88, 64], \n",
        "                   [87, 134, 58], \n",
        "                   [102, 43, 37], \n",
        "                   [69, 96, 70], \n",
        "                   [73, 67, 43], \n",
        "                   [91, 88, 64], \n",
        "                   [87, 134, 58], \n",
        "                   [102, 43, 37], \n",
        "                   [69, 96, 70], \n",
        "                   [73, 67, 43], \n",
        "                   [91, 88, 64], \n",
        "                   [87, 134, 58], \n",
        "                   [102, 43, 37], \n",
        "                   [69, 96, 70]], dtype='float32')\n",
        "\n",
        "# Targets (apples, oranges)\n",
        "targets = np.array([[56, 70], \n",
        "                    [81, 101], \n",
        "                    [119, 133], \n",
        "                    [22, 37], \n",
        "                    [103, 119], \n",
        "                    [56, 70], \n",
        "                    [81, 101], \n",
        "                    [119, 133], \n",
        "                    [22, 37], \n",
        "                    [103, 119], \n",
        "                    [56, 70], \n",
        "                    [81, 101], \n",
        "                    [119, 133], \n",
        "                    [22, 37], \n",
        "                    [103, 119]],dtype='float32')"
      ],
      "metadata": {
        "id": "RRl4-NmclpjL"
      },
      "execution_count": null,
      "outputs": []
    },
    {
      "cell_type": "code",
      "source": [
        "inputs = torch.from_numpy(inputs)\n",
        "targets = torch.from_numpy(targets)"
      ],
      "metadata": {
        "id": "2ab60fb3lpgf"
      },
      "execution_count": null,
      "outputs": []
    },
    {
      "cell_type": "code",
      "source": [
        "data= TensorDataset(inputs,targets)"
      ],
      "metadata": {
        "id": "aMfWJsWHlpdY"
      },
      "execution_count": null,
      "outputs": []
    },
    {
      "cell_type": "code",
      "source": [
        "# Define data loader\n",
        "train_loader = DataLoader(data, batch_size = 3, shuffle = True)"
      ],
      "metadata": {
        "id": "wWD7nEZvlpap"
      },
      "execution_count": null,
      "outputs": []
    },
    {
      "cell_type": "code",
      "source": [
        "# Defining model\n",
        "def model(X):\n",
        "    return X @ w.t() + b"
      ],
      "metadata": {
        "id": "6czDj_DvlpXo"
      },
      "execution_count": null,
      "outputs": []
    },
    {
      "cell_type": "code",
      "source": [
        "#Defining Parameters\n",
        "w = torch.zeros(2, 3, requires_grad=True)\n",
        "b = torch.zeros(2, requires_grad=True)"
      ],
      "metadata": {
        "id": "YhgY8VOElpUz"
      },
      "execution_count": null,
      "outputs": []
    },
    {
      "cell_type": "code",
      "source": [
        "learning_rate = 0.00001\n",
        "optimizer = torch.optim.SGD([w, b], lr = learning_rate, momentum = 0.9)"
      ],
      "metadata": {
        "id": "TuX0d2qKlpR4"
      },
      "execution_count": null,
      "outputs": []
    },
    {
      "cell_type": "code",
      "source": [
        "# Define loss function\n",
        "loss_fn = F.mse_loss"
      ],
      "metadata": {
        "id": "iKza3LwAlpPA"
      },
      "execution_count": null,
      "outputs": []
    },
    {
      "cell_type": "code",
      "source": [
        "#Function to train model\n",
        "def fit(epochs, optimizer, model, loss_fn, w, b):\n",
        "  for i in range(epochs):\n",
        "      for x,y in train_loader:\n",
        "          optimizer.zero_grad()\n",
        "          preds = model(x)\n",
        "          loss = loss_fn(preds, y)\n",
        "          loss.backward()\n",
        "          with torch.no_grad():\n",
        "              w -= w.grad * learning_rate\n",
        "              b -= b.grad * learning_rate\n",
        "              w.grad.zero_()\n",
        "              b.grad.zero_()\n",
        "          optimizer.step()\n",
        "      print(f\"Epoch {i}/{epochs}: Loss: {loss}\")"
      ],
      "metadata": {
        "id": "I-DdEqn3lpMF"
      },
      "execution_count": null,
      "outputs": []
    },
    {
      "cell_type": "code",
      "source": [
        "#Training model for 100 epochs\n",
        "fit(100, optimizer, model, loss_fn, w, b)"
      ],
      "metadata": {
        "id": "50uCD58clpJN",
        "colab": {
          "base_uri": "https://localhost:8080/"
        },
        "outputId": "0a0b5eef-ec12-4547-9c6e-b99a28c041ef"
      },
      "execution_count": null,
      "outputs": [
        {
          "output_type": "stream",
          "name": "stdout",
          "text": [
            "Epoch 0/100: Loss: 511.5111083984375\n",
            "Epoch 1/100: Loss: 1063.9200439453125\n",
            "Epoch 2/100: Loss: 234.48399353027344\n",
            "Epoch 3/100: Loss: 365.9972229003906\n",
            "Epoch 4/100: Loss: 557.9973754882812\n",
            "Epoch 5/100: Loss: 73.47393035888672\n",
            "Epoch 6/100: Loss: 441.7743225097656\n",
            "Epoch 7/100: Loss: 16.546804428100586\n",
            "Epoch 8/100: Loss: 140.7797393798828\n",
            "Epoch 9/100: Loss: 58.26425552368164\n",
            "Epoch 10/100: Loss: 321.1194152832031\n",
            "Epoch 11/100: Loss: 391.1067199707031\n",
            "Epoch 12/100: Loss: 289.2616271972656\n",
            "Epoch 13/100: Loss: 51.03975296020508\n",
            "Epoch 14/100: Loss: 567.3075561523438\n",
            "Epoch 15/100: Loss: 236.41514587402344\n",
            "Epoch 16/100: Loss: 215.1763458251953\n",
            "Epoch 17/100: Loss: 117.39156341552734\n",
            "Epoch 18/100: Loss: 259.5453186035156\n",
            "Epoch 19/100: Loss: 182.32212829589844\n",
            "Epoch 20/100: Loss: 18.01908302307129\n",
            "Epoch 21/100: Loss: 166.66380310058594\n",
            "Epoch 22/100: Loss: 16.725130081176758\n",
            "Epoch 23/100: Loss: 194.20851135253906\n",
            "Epoch 24/100: Loss: 179.72508239746094\n",
            "Epoch 25/100: Loss: 290.697265625\n",
            "Epoch 26/100: Loss: 62.64974594116211\n",
            "Epoch 27/100: Loss: 66.54285430908203\n",
            "Epoch 28/100: Loss: 149.233642578125\n",
            "Epoch 29/100: Loss: 64.18997955322266\n",
            "Epoch 30/100: Loss: 53.791751861572266\n",
            "Epoch 31/100: Loss: 9.647489547729492\n",
            "Epoch 32/100: Loss: 82.70413208007812\n",
            "Epoch 33/100: Loss: 112.67727661132812\n",
            "Epoch 34/100: Loss: 6.237133026123047\n",
            "Epoch 35/100: Loss: 49.2513313293457\n",
            "Epoch 36/100: Loss: 149.1481170654297\n",
            "Epoch 37/100: Loss: 94.56391143798828\n",
            "Epoch 38/100: Loss: 3.928319215774536\n",
            "Epoch 39/100: Loss: 86.1412353515625\n",
            "Epoch 40/100: Loss: 51.59185791015625\n",
            "Epoch 41/100: Loss: 2.9034945964813232\n",
            "Epoch 42/100: Loss: 91.2020263671875\n",
            "Epoch 43/100: Loss: 73.23442077636719\n",
            "Epoch 44/100: Loss: 83.3600845336914\n",
            "Epoch 45/100: Loss: 68.07164764404297\n",
            "Epoch 46/100: Loss: 3.262690544128418\n",
            "Epoch 47/100: Loss: 5.990070343017578\n",
            "Epoch 48/100: Loss: 33.23740005493164\n",
            "Epoch 49/100: Loss: 35.45812225341797\n",
            "Epoch 50/100: Loss: 60.91265869140625\n",
            "Epoch 51/100: Loss: 31.6001033782959\n",
            "Epoch 52/100: Loss: 29.451766967773438\n",
            "Epoch 53/100: Loss: 58.301570892333984\n",
            "Epoch 54/100: Loss: 46.55806350708008\n",
            "Epoch 55/100: Loss: 46.3699836730957\n",
            "Epoch 56/100: Loss: 22.278356552124023\n",
            "Epoch 57/100: Loss: 5.467848300933838\n",
            "Epoch 58/100: Loss: 21.21558952331543\n",
            "Epoch 59/100: Loss: 20.23798942565918\n",
            "Epoch 60/100: Loss: 6.078145503997803\n",
            "Epoch 61/100: Loss: 5.469038486480713\n",
            "Epoch 62/100: Loss: 18.46549415588379\n",
            "Epoch 63/100: Loss: 80.47492218017578\n",
            "Epoch 64/100: Loss: 32.434635162353516\n",
            "Epoch 65/100: Loss: 22.50060272216797\n",
            "Epoch 66/100: Loss: 4.089986801147461\n",
            "Epoch 67/100: Loss: 29.484031677246094\n",
            "Epoch 68/100: Loss: 21.57132911682129\n",
            "Epoch 69/100: Loss: 46.94059371948242\n",
            "Epoch 70/100: Loss: 21.947317123413086\n",
            "Epoch 71/100: Loss: 20.686189651489258\n",
            "Epoch 72/100: Loss: 21.19175148010254\n",
            "Epoch 73/100: Loss: 8.790809631347656\n",
            "Epoch 74/100: Loss: 7.719680309295654\n",
            "Epoch 75/100: Loss: 9.026029586791992\n",
            "Epoch 76/100: Loss: 12.405720710754395\n",
            "Epoch 77/100: Loss: 21.622114181518555\n",
            "Epoch 78/100: Loss: 11.643742561340332\n",
            "Epoch 79/100: Loss: 16.279462814331055\n",
            "Epoch 80/100: Loss: 20.63365364074707\n",
            "Epoch 81/100: Loss: 20.035425186157227\n",
            "Epoch 82/100: Loss: 35.060855865478516\n",
            "Epoch 83/100: Loss: 18.954402923583984\n",
            "Epoch 84/100: Loss: 33.85420608520508\n",
            "Epoch 85/100: Loss: 11.60852336883545\n",
            "Epoch 86/100: Loss: 6.0265655517578125\n",
            "Epoch 87/100: Loss: 9.229218482971191\n",
            "Epoch 88/100: Loss: 16.200605392456055\n",
            "Epoch 89/100: Loss: 14.797676086425781\n",
            "Epoch 90/100: Loss: 20.7149715423584\n",
            "Epoch 91/100: Loss: 4.983639240264893\n",
            "Epoch 92/100: Loss: 16.603063583374023\n",
            "Epoch 93/100: Loss: 4.887850284576416\n",
            "Epoch 94/100: Loss: 15.985543251037598\n",
            "Epoch 95/100: Loss: 13.950565338134766\n",
            "Epoch 96/100: Loss: 13.358773231506348\n",
            "Epoch 97/100: Loss: 26.11066436767578\n",
            "Epoch 98/100: Loss: 9.797869682312012\n",
            "Epoch 99/100: Loss: 15.10522174835205\n"
          ]
        }
      ]
    },
    {
      "cell_type": "code",
      "source": [
        "# Generate predictions and compare with targets\n",
        "preds = model(inputs)\n",
        "print(\"Prediction is : \", preds)\n",
        "print(\"\\nActual targets is : \", targets)\n",
        "print(\"Loss is : \", loss_fn(preds, targets))"
      ],
      "metadata": {
        "id": "9FE2VvT7lpGW",
        "colab": {
          "base_uri": "https://localhost:8080/"
        },
        "outputId": "45874917-86e3-4e77-a74f-969e73f8be37"
      },
      "execution_count": null,
      "outputs": [
        {
          "output_type": "stream",
          "name": "stdout",
          "text": [
            "Prediction is :  tensor([[ 57.7065,  70.9615],\n",
            "        [ 80.7573,  98.4005],\n",
            "        [121.4506, 137.6227],\n",
            "        [ 23.7822,  40.0954],\n",
            "        [ 97.7986, 113.3523],\n",
            "        [ 57.7065,  70.9615],\n",
            "        [ 80.7573,  98.4005],\n",
            "        [121.4506, 137.6227],\n",
            "        [ 23.7822,  40.0954],\n",
            "        [ 97.7986, 113.3523],\n",
            "        [ 57.7065,  70.9615],\n",
            "        [ 80.7573,  98.4005],\n",
            "        [121.4506, 137.6227],\n",
            "        [ 23.7822,  40.0954],\n",
            "        [ 97.7986, 113.3523]], grad_fn=<AddBackward0>)\n",
            "\n",
            "Actual targets is :  tensor([[ 56.,  70.],\n",
            "        [ 81., 101.],\n",
            "        [119., 133.],\n",
            "        [ 22.,  37.],\n",
            "        [103., 119.],\n",
            "        [ 56.,  70.],\n",
            "        [ 81., 101.],\n",
            "        [119., 133.],\n",
            "        [ 22.,  37.],\n",
            "        [103., 119.],\n",
            "        [ 56.,  70.],\n",
            "        [ 81., 101.],\n",
            "        [119., 133.],\n",
            "        [ 22.,  37.],\n",
            "        [103., 119.]])\n",
            "Loss is :  tensor(10.9737, grad_fn=<MseLossBackward0>)\n"
          ]
        }
      ]
    },
    {
      "cell_type": "code",
      "source": [
        ""
      ],
      "metadata": {
        "id": "zcoZepApPDNw"
      },
      "execution_count": null,
      "outputs": []
    }
  ]
}