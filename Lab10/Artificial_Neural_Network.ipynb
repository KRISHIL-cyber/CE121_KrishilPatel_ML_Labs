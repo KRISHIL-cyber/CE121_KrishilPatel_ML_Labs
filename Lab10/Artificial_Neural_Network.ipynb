{
  "nbformat": 4,
  "nbformat_minor": 0,
  "metadata": {
    "colab": {
      "name": "Artificial Neural Network.ipynb",
      "provenance": [],
      "collapsed_sections": []
    },
    "kernelspec": {
      "name": "python3",
      "display_name": "Python 3"
    },
    "language_info": {
      "name": "python"
    }
  },
  "cells": [
    {
      "cell_type": "code",
      "execution_count": 1,
      "metadata": {
        "id": "yfCF-pajT3bM"
      },
      "outputs": [],
      "source": [
        "import matplotlib.pyplot as plt\n",
        "import numpy as np\n",
        "import pandas as pd\n",
        "import torch\n",
        "import torch.nn as nn\n",
        "from torch.autograd import Variable\n",
        "from torch.utils.data import DataLoader, TensorDataset\n",
        "import tensorflow as tf\n",
        "from sklearn.model_selection import train_test_split\n",
        "from tensorflow.keras.datasets import mnist\n",
        "from sklearn.metrics import log_loss"
      ]
    },
    {
      "cell_type": "code",
      "source": [
        "(features_train, targets_train), (features_test, targets_test) = mnist.load_data()"
      ],
      "metadata": {
        "colab": {
          "base_uri": "https://localhost:8080/"
        },
        "id": "0B4vOZGBT6XF",
        "outputId": "a9d2d4b8-55a5-4be5-c46c-16d514567eab"
      },
      "execution_count": 2,
      "outputs": [
        {
          "output_type": "stream",
          "name": "stdout",
          "text": [
            "Downloading data from https://storage.googleapis.com/tensorflow/tf-keras-datasets/mnist.npz\n",
            "11493376/11490434 [==============================] - 0s 0us/step\n",
            "11501568/11490434 [==============================] - 0s 0us/step\n"
          ]
        }
      ]
    },
    {
      "cell_type": "code",
      "source": [
        "# Convert to float32.\n",
        "X_train = features_train.astype(np.float32)\n",
        "X_test = features_test.astype(np.float32)\n",
        "\n",
        "# Flatten images to 1-D vector of 784 features (28*28).\n",
        "temp_train = []\n",
        "for i in range(len(X_train)):\n",
        "  temp_train.append(X_train[i].flatten())\n",
        "\n",
        "X_train = np.array(temp_train)\n",
        "\n",
        "temp_test = []\n",
        "for i in range(len(X_test)):\n",
        "  temp_test.append(X_test[i].flatten())\n",
        "\n",
        "X_test = np.array(temp_test)\n",
        "\n",
        "# Normalize images value from [0, 255] to [0, 1].\n",
        "X_train = X_train / np.ptp(X_train)\n",
        "X_test = X_test / np.ptp(X_test)\n",
        "\n",
        "# create feature and targets tensor for train set. As we need variable to accumulate gradients.\n",
        "# Therefore first we create tensor, then we will create variable\n",
        "features_train = torch.from_numpy(X_train)\n",
        "targets_train = torch.from_numpy(targets_train)\n",
        "\n",
        "# create feature and targets tensor for test set.\n",
        "features_test = torch.from_numpy(X_test)\n",
        "targets_test = torch.from_numpy(targets_test)\n",
        "\n",
        "# batch_size, epoch and iteration\n",
        "batch_size = 100\n",
        "n_iters = 5000\n",
        "num_epochs = int(n_iters / (len(features_train) / batch_size))\n",
        "\n",
        "# Pytorch train and test sets - Tensordataset\n",
        "train_data = TensorDataset(features_train, targets_train)\n",
        "test_data = TensorDataset(features_test, targets_test)\n",
        "\n",
        "# data loader\n",
        "train_loader = DataLoader(train_data, batch_size = batch_size, shuffle=True)\n",
        "test_loader = DataLoader(test_data, batch_size = batch_size, shuffle=True)\n",
        "\n",
        "# visualize one of the images in data set\n",
        "train_features, train_labels = next(iter(train_loader))\n",
        "img = train_features[0].view(28, 28).squeeze()\n",
        "label = train_labels[0]\n",
        "plt.imshow(img, cmap=\"gray\")\n",
        "plt.show()\n",
        "print(f\"Label: {label}\")"
      ],
      "metadata": {
        "colab": {
          "base_uri": "https://localhost:8080/",
          "height": 282
        },
        "id": "gfIlL1LLT8Sa",
        "outputId": "37f68ad3-0d32-4be4-937a-ef6745ba84d4"
      },
      "execution_count": 3,
      "outputs": [
        {
          "output_type": "display_data",
          "data": {
            "text/plain": [
              "<Figure size 432x288 with 1 Axes>"
            ],
            "image/png": "[encoded data removed]"
          },
          "metadata": {
            "needs_background": "light"
          }
        },
        {
          "output_type": "stream",
          "name": "stdout",
          "text": [
            "Label: 3\n"
          ]
        }
      ]
    },
    {
      "cell_type": "code",
      "source": [
        "# Create ANN Model\n",
        "class ANNModel(nn.Module):\n",
        "  def __init__(self, input_dim, hidden_dim, output_dim):\n",
        "    super(ANNModel, self).__init__()\n",
        "    self.d1 = nn.Linear(input_dim, hidden_dim)\n",
        "    self.d2 = nn.Linear(hidden_dim, output_dim)\n",
        "  \n",
        "  def forward(self, x):\n",
        "    x = nn.functional.relu(self.d1(x))\n",
        "    x = self.d2(x)\n",
        "    return torch.sigmoid(x)\n",
        "\n",
        "# instantiate ANN\n",
        "input_dim = 28*28\n",
        "hidden_dim = 150 #hidden layer dim is one of the hyper parameter and it should be chosen and tuned. For now I only say 150 there is no reason.\n",
        "output_dim = 10\n",
        "\n",
        "# Create ANN\n",
        "model = ANNModel(input_dim, hidden_dim, output_dim)\n",
        "\n",
        "# Cross Entropy Loss\n",
        "error = nn.CrossEntropyLoss()\n",
        "\n",
        "# SGD Optimizer\n",
        "learning_rate = 0.02\n",
        "optimizer = torch.optim.SGD(model.parameters(), lr=learning_rate)"
      ],
      "metadata": {
        "id": "cP4Fn4f_Vkhl"
      },
      "execution_count": 4,
      "outputs": []
    },
    {
      "cell_type": "code",
      "source": [
        "features_train"
      ],
      "metadata": {
        "colab": {
          "base_uri": "https://localhost:8080/"
        },
        "id": "aa5fhjwvVm4z",
        "outputId": "72ffc058-b7f5-46ff-a72f-5f5814d86650"
      },
      "execution_count": 5,
      "outputs": [
        {
          "output_type": "execute_result",
          "data": {
            "text/plain": [
              "tensor([[0., 0., 0.,  ..., 0., 0., 0.],\n",
              "        [0., 0., 0.,  ..., 0., 0., 0.],\n",
              "        [0., 0., 0.,  ..., 0., 0., 0.],\n",
              "        ...,\n",
              "        [0., 0., 0.,  ..., 0., 0., 0.],\n",
              "        [0., 0., 0.,  ..., 0., 0., 0.],\n",
              "        [0., 0., 0.,  ..., 0., 0., 0.]])"
            ]
          },
          "metadata": {},
          "execution_count": 5
        }
      ]
    },
    {
      "cell_type": "code",
      "source": [
        "# ANN model training\n",
        "count = 0\n",
        "loss_list = []\n",
        "iteration_list = []\n",
        "accuracy_list = []\n",
        "\n",
        "for epoch in range(num_epochs):\n",
        "  for i, (images, labels) in enumerate(train_loader):\n",
        "    train = Variable(images.view(-1, 28*28))\n",
        "    labels = Variable(labels)\n",
        "    pred = model(images)\n",
        "    # Clear gradients\n",
        "    optimizer.zero_grad()\n",
        "    loss = error(pred, labels)\n",
        "    # Forward propagation\n",
        "    loss.backward()\n",
        "    # Calculate softmax and cross entropy loss\n",
        "    # Calculating gradients\n",
        "    # Update parameters\n",
        "    optimizer.step()\n",
        "    count += 1\n",
        "    if count % 50 == 0:\n",
        "      # Calculate Accuracy\n",
        "      correct = 0\n",
        "      total = 0\n",
        "      # Predict test dataset\n",
        "      for images, labels in test_loader:\n",
        "        test = Variable(images.view(-1, 28*28))\n",
        "        # Forward propagation\n",
        "        # Get predictions from the maximum value\n",
        "        pred = model(test)\n",
        "        # Total number of labels\n",
        "        total, _ = pred.shape\n",
        "        for i in range(total) :\n",
        "          if np.argmax(pred[i].detach().numpy()) == labels[i] :\n",
        "            correct += 1\n",
        "      # Total correct predictions\n",
        "      accuracy = correct / float(total)\n",
        "      # store loss and iteration\n",
        "      loss_list.append(loss.data)\n",
        "      iteration_list.append(count)\n",
        "      accuracy_list.append(accuracy)\n",
        "      if count % 500 == 0:\n",
        "        # Print Loss\n",
        "        print('Iteration: {} Loss: {} Accuracy: {} %'.format(count, loss.data, accuracy))"
      ],
      "metadata": {
        "colab": {
          "base_uri": "https://localhost:8080/"
        },
        "id": "qHZ02EakVpOB",
        "outputId": "f71a279c-72d6-4f4a-c6c0-235876e87cc3"
      },
      "execution_count": 6,
      "outputs": [
        {
          "output_type": "stream",
          "name": "stdout",
          "text": [
            "Iteration: 500 Loss: 2.1427037715911865 Accuracy: 73.13 %\n",
            "Iteration: 1000 Loss: 1.8832182884216309 Accuracy: 80.26 %\n",
            "Iteration: 1500 Loss: 1.829586148262024 Accuracy: 80.99 %\n",
            "Iteration: 2000 Loss: 1.7420382499694824 Accuracy: 82.11 %\n",
            "Iteration: 2500 Loss: 1.7207062244415283 Accuracy: 83.51 %\n",
            "Iteration: 3000 Loss: 1.6794337034225464 Accuracy: 84.76 %\n",
            "Iteration: 3500 Loss: 1.6845022439956665 Accuracy: 85.26 %\n",
            "Iteration: 4000 Loss: 1.7256481647491455 Accuracy: 85.99 %\n",
            "Iteration: 4500 Loss: 1.6655491590499878 Accuracy: 86.26 %\n"
          ]
        }
      ]
    },
    {
      "cell_type": "code",
      "source": [
        "# visualization loss\n",
        "plt.plot(iteration_list, loss_list)\n",
        "plt.xlabel(\"Number of iteration\")\n",
        "plt.ylabel(\"Loss\")\n",
        "plt.title(\"ANN: Loss vs Number of iteration\")\n",
        "plt.show()\n",
        "\n",
        "# visualization accuracy\n",
        "plt.plot(iteration_list, accuracy_list, color = \"red\")\n",
        "plt.xlabel(\"Number of iteration\")\n",
        "plt.ylabel(\"Accuracy\")\n",
        "plt.title(\"ANN: Accuracy vs Number of iteration\")\n",
        "plt.show()"
      ],
      "metadata": {
        "colab": {
          "base_uri": "https://localhost:8080/",
          "height": 573
        },
        "id": "LLQvq5xBVqJl",
        "outputId": "803d2d2e-c486-4fcc-9fd7-bacb404eb7ef"
      },
      "execution_count": 7,
      "outputs": [
        {
          "output_type": "display_data",
          "data": {
            "text/plain": [
              "<Figure size 432x288 with 1 Axes>"
            ],
            "image/png": "[encoded data removed]"
          },
          "metadata": {
            "needs_background": "light"
          }
        },
        {
          "output_type": "display_data",
          "data": {
            "text/plain": [
              "<Figure size 432x288 with 1 Axes>"
            ],
            "image/png": "[encoded data removed]"
          },
          "metadata": {
            "needs_background": "light"
          }
        }
      ]
    },
    {
      "cell_type": "code",
      "source": [
        ""
      ],
      "metadata": {
        "id": "qyrm3o9LVt0B"
      },
      "execution_count": null,
      "outputs": []
    }
  ]
}