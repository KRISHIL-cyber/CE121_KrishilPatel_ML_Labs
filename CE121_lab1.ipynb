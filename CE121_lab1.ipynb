{
  "nbformat": 4,
  "nbformat_minor": 0,
  "metadata": {
    "colab": {
      "name": "CE121_lab1.ipynb",
      "provenance": [],
      "collapsed_sections": []
    },
    "kernelspec": {
      "name": "python3",
      "display_name": "Python 3"
    },
    "language_info": {
      "name": "python"
    }
  },
  "cells": [
    {
      "cell_type": "markdown",
      "source": [
        "# Lab_1_Numpy"
      ],
      "metadata": {
        "id": "eNlz6fNGUduO"
      }
    },
    {
      "cell_type": "code",
      "execution_count": null,
      "metadata": {
        "colab": {
          "base_uri": "https://localhost:8080/"
        },
        "id": "WZvwyy_HTZEh",
        "outputId": "c0ae738d-0d73-40e4-9267-b8058bde3fab"
      },
      "outputs": [
        {
          "output_type": "stream",
          "name": "stdout",
          "text": [
            "[[0. 0. 0. 0. 0.]\n",
            " [0. 0. 0. 0. 0.]\n",
            " [0. 0. 0. 0. 0.]\n",
            " [0. 0. 0. 0. 0.]]\n"
          ]
        }
      ],
      "source": [
        "import numpy as np\n",
        "narray= np.zeros((4,5))\n",
        "print(narray)"
      ]
    },
    {
      "cell_type": "code",
      "source": [
        "narray=np.random.rand(4,5)\n",
        "print(narray)"
      ],
      "metadata": {
        "colab": {
          "base_uri": "https://localhost:8080/"
        },
        "id": "FCpOn0s6Ub5J",
        "outputId": "41a0861e-5757-4841-a348-dea6f9364a09"
      },
      "execution_count": null,
      "outputs": [
        {
          "output_type": "stream",
          "name": "stdout",
          "text": [
            "[[0.67427877 0.66909248 0.68706915 0.13353969 0.03672793]\n",
            " [0.55001025 0.25048172 0.71563827 0.34039577 0.64720307]\n",
            " [0.48830259 0.37169275 0.61866529 0.20162828 0.34226914]\n",
            " [0.89401529 0.99338306 0.11396011 0.87929738 0.24421713]]\n"
          ]
        }
      ]
    },
    {
      "cell_type": "code",
      "source": [
        "narray=np.random.rand(4,4)\n",
        "det= np.linalg.det(narray)\n",
        "transpose= narray.T\n",
        "print(\"Determinant:\",det)\n",
        "print(\"tranpose of array:\\n\")\n",
        "print(transpose)"
      ],
      "metadata": {
        "colab": {
          "base_uri": "https://localhost:8080/"
        },
        "id": "VzKthm6-Vd9H",
        "outputId": "27bee037-556b-4a26-e15e-0c67449fa0dc"
      },
      "execution_count": null,
      "outputs": [
        {
          "output_type": "stream",
          "name": "stdout",
          "text": [
            "Determinant: 0.073196950161703\n",
            "tranpose of array:\n",
            "\n",
            "[[0.36252534 0.42348612 0.81145942 0.06762252]\n",
            " [0.33554516 0.06649279 0.65431507 0.6611539 ]\n",
            " [0.72886649 0.16081862 0.92782909 0.49403693]\n",
            " [0.01619621 0.57925352 0.2321033  0.27097243]]\n"
          ]
        }
      ]
    },
    {
      "cell_type": "code",
      "source": [
        "narr1=np.random.rand(4,5)\n",
        "narr2=np.random.rand(5,4)\n",
        "matrix_mul=np.dot(narr1,narr2)\n",
        "ele_mul=narr1*narr1 #dim should be same so taking both as narr1\n",
        "print(\"Mat mul:\\n\",matrix_mul,\"\\n\")\n",
        "print(\"Element wise:\\n\", ele_mul)"
      ],
      "metadata": {
        "colab": {
          "base_uri": "https://localhost:8080/"
        },
        "id": "ZBk_sx7QWoqV",
        "outputId": "985fa3df-201f-45e4-b064-9659b3dbac86"
      },
      "execution_count": null,
      "outputs": [
        {
          "output_type": "stream",
          "name": "stdout",
          "text": [
            "Mat mul:\n",
            " [[0.24632821 1.4327642  1.15793977 1.30617427]\n",
            " [0.78642091 2.08848496 1.95992387 1.96303997]\n",
            " [0.57123725 1.8337352  1.61658474 1.75863369]\n",
            " [0.53814061 1.05272394 1.13963404 0.99862045]] \n",
            "\n",
            "Element wise:\n",
            " [[0.97192683 0.00977962 0.00188653 0.99638782 0.45277462]\n",
            " [0.71430641 0.66998492 0.73806016 0.78791117 0.64408723]\n",
            " [0.92284991 0.29510794 0.42810355 0.83768984 0.26848011]\n",
            " [0.12249778 0.30145701 0.25176684 0.04337923 0.72162142]]\n"
          ]
        }
      ]
    },
    {
      "cell_type": "code",
      "source": [
        "mean=np.mean(narr1)\n",
        "median=np.median(narr1)\n",
        "print(mean)\n",
        "print(median)"
      ],
      "metadata": {
        "colab": {
          "base_uri": "https://localhost:8080/"
        },
        "id": "q1xrSqGeYMDH",
        "outputId": "6cb64462-a70e-4aa2-a881-5a4dac3fa7f8"
      },
      "execution_count": null,
      "outputs": [
        {
          "output_type": "stream",
          "name": "stdout",
          "text": [
            "0.6531209792172789\n",
            "0.7377178737356497\n"
          ]
        }
      ]
    },
    {
      "cell_type": "code",
      "source": [
        "print(narr1, \"\\n\")\n",
        "col2=narr1[:,1]\n",
        "print(col2)"
      ],
      "metadata": {
        "colab": {
          "base_uri": "https://localhost:8080/"
        },
        "id": "Gl389_8YYt_t",
        "outputId": "14d7c091-e555-4413-d7c9-eaa5ee089111"
      },
      "execution_count": null,
      "outputs": [
        {
          "output_type": "stream",
          "name": "stdout",
          "text": [
            "[[0.9858635  0.09889195 0.04343424 0.99819228 0.67288529]\n",
            " [0.8451665  0.81852606 0.85910428 0.8876436  0.80255045]\n",
            " [0.96065077 0.54323839 0.65429622 0.91525398 0.51815066]\n",
            " [0.34999682 0.54905101 0.50176373 0.20827681 0.84948303]] \n",
            "\n",
            "[0.09889195 0.81852606 0.54323839 0.54905101]\n"
          ]
        }
      ]
    },
    {
      "cell_type": "code",
      "source": [
        "from google.colab import drive\n",
        "drive.mount('/content/drive')"
      ],
      "metadata": {
        "colab": {
          "base_uri": "https://localhost:8080/"
        },
        "id": "dK46IVlYz_W9",
        "outputId": "6206cfbe-5aa0-42f0-f5c8-a6e20626ac5f"
      },
      "execution_count": null,
      "outputs": [
        {
          "output_type": "stream",
          "name": "stdout",
          "text": [
            "Drive already mounted at /content/drive; to attempt to forcibly remount, call drive.mount(\"/content/drive\", force_remount=True).\n"
          ]
        }
      ]
    },
    {
      "cell_type": "code",
      "source": [
        "import pandas as pd\n",
        "data=pd.read_csv('/content/drive/MyDrive/Iris.csv')\n",
        "print(data)"
      ],
      "metadata": {
        "id": "8b8GGNOkF89V",
        "outputId": "98cbe760-2885-4ead-d905-b82add389fdb",
        "colab": {
          "base_uri": "https://localhost:8080/"
        }
      },
      "execution_count": null,
      "outputs": [
        {
          "output_type": "stream",
          "name": "stdout",
          "text": [
            "      Id  SepalLengthCm  ...  PetalWidthCm         Species\n",
            "0      1            5.1  ...           0.2     Iris-setosa\n",
            "1      2            4.9  ...           0.2     Iris-setosa\n",
            "2      3            4.7  ...           0.2     Iris-setosa\n",
            "3      4            4.6  ...           0.2     Iris-setosa\n",
            "4      5            5.0  ...           0.2     Iris-setosa\n",
            "..   ...            ...  ...           ...             ...\n",
            "145  146            6.7  ...           2.3  Iris-virginica\n",
            "146  147            6.3  ...           1.9  Iris-virginica\n",
            "147  148            6.5  ...           2.0  Iris-virginica\n",
            "148  149            6.2  ...           2.3  Iris-virginica\n",
            "149  150            5.9  ...           1.8  Iris-virginica\n",
            "\n",
            "[150 rows x 6 columns]\n"
          ]
        }
      ]
    },
    {
      "cell_type": "code",
      "source": [
        "narray_csv=data.to_numpy()\n",
        "\n",
        "narray_csv=narray_csv[:,1:5]\n",
        "\n",
        "mean= np.mean(narray_csv,axis=0)\n",
        "print(mean)\n",
        "print(type(mean))\n",
        "mean_formatted = []\n",
        "for num in mean:\n",
        "  num=format(num,'.2f')\n",
        "  mean_formatted.append(float(num))\n",
        "\n",
        "mean_formatted= np.array(mean_formatted)\n",
        "print(\"\\nFormatted mean: \",mean_formatted)\n",
        "narray_csv_Centered=narray_csv-mean_formatted\n",
        "print(narray_csv_Centered)\n",
        "print(\"New mean by col:\")\n",
        "print(np.sum(narray_csv_Centered,axis=0))"
      ],
      "metadata": {
        "id": "w_ZcEAPjaR-7",
        "colab": {
          "base_uri": "https://localhost:8080/"
        },
        "outputId": "730de448-bd16-4574-b230-0937f860858d"
      },
      "execution_count": null,
      "outputs": [
        {
          "output_type": "stream",
          "name": "stdout",
          "text": [
            "[5.843333333333335 3.0540000000000007 3.7586666666666693\n",
            " 1.1986666666666672]\n",
            "<class 'numpy.ndarray'>\n",
            "\n",
            "Formatted mean:  [5.84 3.05 3.76 1.2 ]\n",
            "[[-0.7400000000000002 0.4500000000000002 -2.36 -1.0]\n",
            " [-0.9399999999999995 -0.04999999999999982 -2.36 -1.0]\n",
            " [-1.1399999999999997 0.15000000000000036 -2.46 -1.0]\n",
            " [-1.2400000000000002 0.050000000000000266 -2.26 -1.0]\n",
            " [-0.8399999999999999 0.5500000000000003 -2.36 -1.0]\n",
            " [-0.4399999999999995 0.8500000000000001 -2.0599999999999996\n",
            "  -0.7999999999999999]\n",
            " [-1.2400000000000002 0.3500000000000001 -2.36 -0.8999999999999999]\n",
            " [-0.8399999999999999 0.3500000000000001 -2.26 -1.0]\n",
            " [-1.4399999999999995 -0.1499999999999999 -2.36 -1.0]\n",
            " [-0.9399999999999995 0.050000000000000266 -2.26 -1.0999999999999999]\n",
            " [-0.4399999999999995 0.6500000000000004 -2.26 -1.0]\n",
            " [-1.04 0.3500000000000001 -2.1599999999999997 -1.0]\n",
            " [-1.04 -0.04999999999999982 -2.36 -1.0999999999999999]\n",
            " [-1.54 -0.04999999999999982 -2.6599999999999997 -1.0999999999999999]\n",
            " [-0.040000000000000036 0.9500000000000002 -2.5599999999999996 -1.0]\n",
            " [-0.13999999999999968 1.3500000000000005 -2.26 -0.7999999999999999]\n",
            " [-0.4399999999999995 0.8500000000000001 -2.46 -0.7999999999999999]\n",
            " [-0.7400000000000002 0.4500000000000002 -2.36 -0.8999999999999999]\n",
            " [-0.13999999999999968 0.75 -2.0599999999999996 -0.8999999999999999]\n",
            " [-0.7400000000000002 0.75 -2.26 -0.8999999999999999]\n",
            " [-0.4399999999999995 0.3500000000000001 -2.0599999999999996 -1.0]\n",
            " [-0.7400000000000002 0.6500000000000004 -2.26 -0.7999999999999999]\n",
            " [-1.2400000000000002 0.5500000000000003 -2.76 -1.0]\n",
            " [-0.7400000000000002 0.25 -2.0599999999999996 -0.7]\n",
            " [-1.04 0.3500000000000001 -1.8599999999999999 -1.0]\n",
            " [-0.8399999999999999 -0.04999999999999982 -2.1599999999999997 -1.0]\n",
            " [-0.8399999999999999 0.3500000000000001 -2.1599999999999997\n",
            "  -0.7999999999999999]\n",
            " [-0.6399999999999997 0.4500000000000002 -2.26 -1.0]\n",
            " [-0.6399999999999997 0.3500000000000001 -2.36 -1.0]\n",
            " [-1.1399999999999997 0.15000000000000036 -2.1599999999999997 -1.0]\n",
            " [-1.04 0.050000000000000266 -2.1599999999999997 -1.0]\n",
            " [-0.4399999999999995 0.3500000000000001 -2.26 -0.7999999999999999]\n",
            " [-0.6399999999999997 1.0499999999999998 -2.26 -1.0999999999999999]\n",
            " [-0.33999999999999986 1.1500000000000004 -2.36 -1.0]\n",
            " [-0.9399999999999995 0.050000000000000266 -2.26 -1.0999999999999999]\n",
            " [-0.8399999999999999 0.15000000000000036 -2.5599999999999996 -1.0]\n",
            " [-0.33999999999999986 0.4500000000000002 -2.46 -1.0]\n",
            " [-0.9399999999999995 0.050000000000000266 -2.26 -1.0999999999999999]\n",
            " [-1.4399999999999995 -0.04999999999999982 -2.46 -1.0]\n",
            " [-0.7400000000000002 0.3500000000000001 -2.26 -1.0]\n",
            " [-0.8399999999999999 0.4500000000000002 -2.46 -0.8999999999999999]\n",
            " [-1.3399999999999999 -0.75 -2.46 -0.8999999999999999]\n",
            " [-1.4399999999999995 0.15000000000000036 -2.46 -1.0]\n",
            " [-0.8399999999999999 0.4500000000000002 -2.1599999999999997 -0.6]\n",
            " [-0.7400000000000002 0.75 -1.8599999999999999 -0.7999999999999999]\n",
            " [-1.04 -0.04999999999999982 -2.36 -0.8999999999999999]\n",
            " [-0.7400000000000002 0.75 -2.1599999999999997 -1.0]\n",
            " [-1.2400000000000002 0.15000000000000036 -2.36 -1.0]\n",
            " [-0.54 0.6500000000000004 -2.26 -1.0]\n",
            " [-0.8399999999999999 0.25 -2.36 -1.0]\n",
            " [1.1600000000000001 0.15000000000000036 0.9400000000000004\n",
            "  0.19999999999999996]\n",
            " [0.5600000000000005 0.15000000000000036 0.7400000000000002\n",
            "  0.30000000000000004]\n",
            " [1.0600000000000005 0.050000000000000266 1.1400000000000006\n",
            "  0.30000000000000004]\n",
            " [-0.33999999999999986 -0.75 0.2400000000000002 0.10000000000000009]\n",
            " [0.6600000000000001 -0.25 0.8399999999999999 0.30000000000000004]\n",
            " [-0.13999999999999968 -0.25 0.7400000000000002 0.10000000000000009]\n",
            " [0.45999999999999996 0.25 0.9400000000000004 0.40000000000000013]\n",
            " [-0.9399999999999995 -0.6499999999999999 -0.45999999999999996\n",
            "  -0.19999999999999996]\n",
            " [0.7599999999999998 -0.1499999999999999 0.8399999999999999\n",
            "  0.10000000000000009]\n",
            " [-0.6399999999999997 -0.34999999999999964 0.14000000000000012\n",
            "  0.19999999999999996]\n",
            " [-0.8399999999999999 -1.0499999999999998 -0.2599999999999998\n",
            "  -0.19999999999999996]\n",
            " [0.0600000000000005 -0.04999999999999982 0.4400000000000004\n",
            "  0.30000000000000004]\n",
            " [0.16000000000000014 -0.8499999999999996 0.2400000000000002\n",
            "  -0.19999999999999996]\n",
            " [0.2599999999999998 -0.1499999999999999 0.9400000000000004\n",
            "  0.19999999999999996]\n",
            " [-0.2400000000000002 -0.1499999999999999 -0.1599999999999997\n",
            "  0.10000000000000009]\n",
            " [0.8600000000000003 0.050000000000000266 0.6400000000000006\n",
            "  0.19999999999999996]\n",
            " [-0.2400000000000002 -0.04999999999999982 0.7400000000000002\n",
            "  0.30000000000000004]\n",
            " [-0.040000000000000036 -0.34999999999999964 0.33999999999999986\n",
            "  -0.19999999999999996]\n",
            " [0.3600000000000003 -0.8499999999999996 0.7400000000000002\n",
            "  0.30000000000000004]\n",
            " [-0.2400000000000002 -0.5499999999999998 0.14000000000000012\n",
            "  -0.09999999999999987]\n",
            " [0.0600000000000005 0.15000000000000036 1.04 0.6000000000000001]\n",
            " [0.2599999999999998 -0.25 0.2400000000000002 0.10000000000000009]\n",
            " [0.45999999999999996 -0.5499999999999998 1.1400000000000006\n",
            "  0.30000000000000004]\n",
            " [0.2599999999999998 -0.25 0.9400000000000004 0.0]\n",
            " [0.5600000000000005 -0.1499999999999999 0.54 0.10000000000000009]\n",
            " [0.7599999999999998 -0.04999999999999982 0.6400000000000006\n",
            "  0.19999999999999996]\n",
            " [0.96 -0.25 1.04 0.19999999999999996]\n",
            " [0.8600000000000003 -0.04999999999999982 1.2400000000000002 0.5]\n",
            " [0.16000000000000014 -0.1499999999999999 0.7400000000000002\n",
            "  0.30000000000000004]\n",
            " [-0.13999999999999968 -0.44999999999999973 -0.2599999999999998\n",
            "  -0.19999999999999996]\n",
            " [-0.33999999999999986 -0.6499999999999999 0.040000000000000036\n",
            "  -0.09999999999999987]\n",
            " [-0.33999999999999986 -0.6499999999999999 -0.05999999999999961\n",
            "  -0.19999999999999996]\n",
            " [-0.040000000000000036 -0.34999999999999964 0.14000000000000012 0.0]\n",
            " [0.16000000000000014 -0.34999999999999964 1.3399999999999999\n",
            "  0.40000000000000013]\n",
            " [-0.4399999999999995 -0.04999999999999982 0.7400000000000002\n",
            "  0.30000000000000004]\n",
            " [0.16000000000000014 0.3500000000000001 0.7400000000000002\n",
            "  0.40000000000000013]\n",
            " [0.8600000000000003 0.050000000000000266 0.9400000000000004\n",
            "  0.30000000000000004]\n",
            " [0.45999999999999996 -0.75 0.6400000000000006 0.10000000000000009]\n",
            " [-0.2400000000000002 -0.04999999999999982 0.33999999999999986\n",
            "  0.10000000000000009]\n",
            " [-0.33999999999999986 -0.5499999999999998 0.2400000000000002\n",
            "  0.10000000000000009]\n",
            " [-0.33999999999999986 -0.44999999999999973 0.6400000000000006 0.0]\n",
            " [0.2599999999999998 -0.04999999999999982 0.8399999999999999\n",
            "  0.19999999999999996]\n",
            " [-0.040000000000000036 -0.44999999999999973 0.2400000000000002 0.0]\n",
            " [-0.8399999999999999 -0.75 -0.45999999999999996 -0.19999999999999996]\n",
            " [-0.2400000000000002 -0.34999999999999964 0.4400000000000004\n",
            "  0.10000000000000009]\n",
            " [-0.13999999999999968 -0.04999999999999982 0.4400000000000004 0.0]\n",
            " [-0.13999999999999968 -0.1499999999999999 0.4400000000000004\n",
            "  0.10000000000000009]\n",
            " [0.3600000000000003 -0.1499999999999999 0.54 0.10000000000000009]\n",
            " [-0.7400000000000002 -0.5499999999999998 -0.7599999999999998\n",
            "  -0.09999999999999987]\n",
            " [-0.13999999999999968 -0.25 0.33999999999999986 0.10000000000000009]\n",
            " [0.45999999999999996 0.25 2.24 1.3]\n",
            " [-0.040000000000000036 -0.34999999999999964 1.3399999999999999 0.7]\n",
            " [1.2599999999999998 -0.04999999999999982 2.1400000000000006\n",
            "  0.9000000000000001]\n",
            " [0.45999999999999996 -0.1499999999999999 1.8399999999999999\n",
            "  0.6000000000000001]\n",
            " [0.6600000000000001 -0.04999999999999982 2.04 1.0000000000000002]\n",
            " [1.7599999999999998 -0.04999999999999982 2.84 0.9000000000000001]\n",
            " [-0.9399999999999995 -0.5499999999999998 0.7400000000000002 0.5]\n",
            " [1.46 -0.1499999999999999 2.54 0.6000000000000001]\n",
            " [0.8600000000000003 -0.5499999999999998 2.04 0.6000000000000001]\n",
            " [1.3600000000000003 0.5500000000000003 2.34 1.3]\n",
            " [0.6600000000000001 0.15000000000000036 1.3399999999999999 0.8]\n",
            " [0.5600000000000005 -0.34999999999999964 1.54 0.7]\n",
            " [0.96 -0.04999999999999982 1.7400000000000002 0.9000000000000001]\n",
            " [-0.13999999999999968 -0.5499999999999998 1.2400000000000002 0.8]\n",
            " [-0.040000000000000036 -0.25 1.3399999999999999 1.2]\n",
            " [0.5600000000000005 0.15000000000000036 1.54 1.0999999999999999]\n",
            " [0.6600000000000001 -0.04999999999999982 1.7400000000000002\n",
            "  0.6000000000000001]\n",
            " [1.8600000000000003 0.75 2.9400000000000004 1.0000000000000002]\n",
            " [1.8600000000000003 -0.44999999999999973 3.1400000000000006\n",
            "  1.0999999999999999]\n",
            " [0.16000000000000014 -0.8499999999999996 1.2400000000000002\n",
            "  0.30000000000000004]\n",
            " [1.0600000000000005 0.15000000000000036 1.9400000000000004\n",
            "  1.0999999999999999]\n",
            " [-0.2400000000000002 -0.25 1.1400000000000006 0.8]\n",
            " [1.8600000000000003 -0.25 2.9400000000000004 0.8]\n",
            " [0.45999999999999996 -0.34999999999999964 1.1400000000000006\n",
            "  0.6000000000000001]\n",
            " [0.8600000000000003 0.25 1.9400000000000004 0.9000000000000001]\n",
            " [1.3600000000000003 0.15000000000000036 2.24 0.6000000000000001]\n",
            " [0.3600000000000003 -0.25 1.04 0.6000000000000001]\n",
            " [0.2599999999999998 -0.04999999999999982 1.1400000000000006\n",
            "  0.6000000000000001]\n",
            " [0.5600000000000005 -0.25 1.8399999999999999 0.9000000000000001]\n",
            " [1.3600000000000003 -0.04999999999999982 2.04 0.40000000000000013]\n",
            " [1.5600000000000005 -0.25 2.34 0.7]\n",
            " [2.0600000000000005 0.75 2.6400000000000006 0.8]\n",
            " [0.5600000000000005 -0.25 1.8399999999999999 1.0000000000000002]\n",
            " [0.45999999999999996 -0.25 1.3399999999999999 0.30000000000000004]\n",
            " [0.2599999999999998 -0.44999999999999973 1.8399999999999999\n",
            "  0.19999999999999996]\n",
            " [1.8600000000000003 -0.04999999999999982 2.34 1.0999999999999999]\n",
            " [0.45999999999999996 0.3500000000000001 1.8399999999999999 1.2]\n",
            " [0.5600000000000005 0.050000000000000266 1.7400000000000002\n",
            "  0.6000000000000001]\n",
            " [0.16000000000000014 -0.04999999999999982 1.04 0.6000000000000001]\n",
            " [1.0600000000000005 0.050000000000000266 1.6400000000000006\n",
            "  0.9000000000000001]\n",
            " [0.8600000000000003 0.050000000000000266 1.8399999999999999 1.2]\n",
            " [1.0600000000000005 0.050000000000000266 1.3399999999999999\n",
            "  1.0999999999999999]\n",
            " [-0.040000000000000036 -0.34999999999999964 1.3399999999999999 0.7]\n",
            " [0.96 0.15000000000000036 2.1400000000000006 1.0999999999999999]\n",
            " [0.8600000000000003 0.25 1.9400000000000004 1.3]\n",
            " [0.8600000000000003 -0.04999999999999982 1.4400000000000004\n",
            "  1.0999999999999999]\n",
            " [0.45999999999999996 -0.5499999999999998 1.2400000000000002 0.7]\n",
            " [0.6600000000000001 -0.04999999999999982 1.4400000000000004 0.8]\n",
            " [0.3600000000000003 0.3500000000000001 1.6400000000000006\n",
            "  1.0999999999999999]\n",
            " [0.0600000000000005 -0.04999999999999982 1.3399999999999999\n",
            "  0.6000000000000001]]\n",
            "New mean by col:\n",
            "[0.4999999999999529 0.6000000000000218 -0.19999999999998241\n",
            " -0.2000000000000144]\n"
          ]
        }
      ]
    },
    {
      "cell_type": "code",
      "source": [
        "print(\"Original Matrix:\")\n",
        "print(narr1)\n",
        "print(\"Reshape to 5x4:\")\n",
        "print(narr1.reshape(5,4))\n",
        "print(\"Shape : \", narr1.shape)\n",
        "print(\"Array with elements in range: \")\n",
        "a1 = np.arange(10)\n",
        "print(a1)\n",
        "a1.ndim\n",
        "print(\"ItemSize: \",a1.itemsize)\n",
        "print(\"Data type of a1: \",a1.dtype)"
      ],
      "metadata": {
        "id": "DJ-FfQFFSgch",
        "colab": {
          "base_uri": "https://localhost:8080/"
        },
        "outputId": "9cd65fcc-fb8c-4808-cb87-3ae9a1579592"
      },
      "execution_count": null,
      "outputs": [
        {
          "output_type": "stream",
          "name": "stdout",
          "text": [
            "Original Matrix:\n",
            "[[0.9858635  0.09889195 0.04343424 0.99819228 0.67288529]\n",
            " [0.8451665  0.81852606 0.85910428 0.8876436  0.80255045]\n",
            " [0.96065077 0.54323839 0.65429622 0.91525398 0.51815066]\n",
            " [0.34999682 0.54905101 0.50176373 0.20827681 0.84948303]]\n",
            "Reshape to 5x4:\n",
            "[[0.9858635  0.09889195 0.04343424 0.99819228]\n",
            " [0.67288529 0.8451665  0.81852606 0.85910428]\n",
            " [0.8876436  0.80255045 0.96065077 0.54323839]\n",
            " [0.65429622 0.91525398 0.51815066 0.34999682]\n",
            " [0.54905101 0.50176373 0.20827681 0.84948303]]\n",
            "Shape :  (4, 5)\n",
            "Array with elements in range: \n",
            "[0 1 2 3 4 5 6 7 8 9]\n",
            "ItemSize:  8\n",
            "Data type of a1:  int64\n"
          ]
        }
      ]
    },
    {
      "cell_type": "code",
      "source": [
        ""
      ],
      "metadata": {
        "id": "Rj9AOBvCSgo4"
      },
      "execution_count": null,
      "outputs": []
    },
    {
      "cell_type": "markdown",
      "source": [
        "# Lab_1_02 Matplotlib\n"
      ],
      "metadata": {
        "id": "v72tc09MTN5P"
      }
    },
    {
      "cell_type": "code",
      "source": [
        "import numpy as np\n",
        "import pandas as pd\n",
        "import matplotlib.pyplot as plt"
      ],
      "metadata": {
        "id": "vJBLXwnLUNQv"
      },
      "execution_count": null,
      "outputs": []
    },
    {
      "cell_type": "code",
      "source": [
        "data=pd.read_csv('/content/drive/MyDrive/Iris.csv')\n",
        "data.head()"
      ],
      "metadata": {
        "id": "Is6P49HvVqAx",
        "colab": {
          "base_uri": "https://localhost:8080/",
          "height": 206
        },
        "outputId": "a60bb2e8-2a51-4cdb-db0a-760a6ad0ccde"
      },
      "execution_count": null,
      "outputs": [
        {
          "output_type": "execute_result",
          "data": {
            "text/html": [
              "<div>\n",
              "<style scoped>\n",
              "    .dataframe tbody tr th:only-of-type {\n",
              "        vertical-align: middle;\n",
              "    }\n",
              "\n",
              "    .dataframe tbody tr th {\n",
              "        vertical-align: top;\n",
              "    }\n",
              "\n",
              "    .dataframe thead th {\n",
              "        text-align: right;\n",
              "    }\n",
              "</style>\n",
              "<table border=\"1\" class=\"dataframe\">\n",
              "  <thead>\n",
              "    <tr style=\"text-align: right;\">\n",
              "      <th></th>\n",
              "      <th>Id</th>\n",
              "      <th>SepalLengthCm</th>\n",
              "      <th>SepalWidthCm</th>\n",
              "      <th>PetalLengthCm</th>\n",
              "      <th>PetalWidthCm</th>\n",
              "      <th>Species</th>\n",
              "    </tr>\n",
              "  </thead>\n",
              "  <tbody>\n",
              "    <tr>\n",
              "      <th>0</th>\n",
              "      <td>1</td>\n",
              "      <td>5.1</td>\n",
              "      <td>3.5</td>\n",
              "      <td>1.4</td>\n",
              "      <td>0.2</td>\n",
              "      <td>Iris-setosa</td>\n",
              "    </tr>\n",
              "    <tr>\n",
              "      <th>1</th>\n",
              "      <td>2</td>\n",
              "      <td>4.9</td>\n",
              "      <td>3.0</td>\n",
              "      <td>1.4</td>\n",
              "      <td>0.2</td>\n",
              "      <td>Iris-setosa</td>\n",
              "    </tr>\n",
              "    <tr>\n",
              "      <th>2</th>\n",
              "      <td>3</td>\n",
              "      <td>4.7</td>\n",
              "      <td>3.2</td>\n",
              "      <td>1.3</td>\n",
              "      <td>0.2</td>\n",
              "      <td>Iris-setosa</td>\n",
              "    </tr>\n",
              "    <tr>\n",
              "      <th>3</th>\n",
              "      <td>4</td>\n",
              "      <td>4.6</td>\n",
              "      <td>3.1</td>\n",
              "      <td>1.5</td>\n",
              "      <td>0.2</td>\n",
              "      <td>Iris-setosa</td>\n",
              "    </tr>\n",
              "    <tr>\n",
              "      <th>4</th>\n",
              "      <td>5</td>\n",
              "      <td>5.0</td>\n",
              "      <td>3.6</td>\n",
              "      <td>1.4</td>\n",
              "      <td>0.2</td>\n",
              "      <td>Iris-setosa</td>\n",
              "    </tr>\n",
              "  </tbody>\n",
              "</table>\n",
              "</div>"
            ],
            "text/plain": [
              "   Id  SepalLengthCm  SepalWidthCm  PetalLengthCm  PetalWidthCm      Species\n",
              "0   1            5.1           3.5            1.4           0.2  Iris-setosa\n",
              "1   2            4.9           3.0            1.4           0.2  Iris-setosa\n",
              "2   3            4.7           3.2            1.3           0.2  Iris-setosa\n",
              "3   4            4.6           3.1            1.5           0.2  Iris-setosa\n",
              "4   5            5.0           3.6            1.4           0.2  Iris-setosa"
            ]
          },
          "metadata": {},
          "execution_count": 61
        }
      ]
    },
    {
      "cell_type": "code",
      "source": [
        "data.describe()"
      ],
      "metadata": {
        "id": "0goGDZw6VqOl",
        "colab": {
          "base_uri": "https://localhost:8080/",
          "height": 300
        },
        "outputId": "96fc805c-5d66-4ca5-e298-dfaf6394e319"
      },
      "execution_count": null,
      "outputs": [
        {
          "output_type": "execute_result",
          "data": {
            "text/html": [
              "<div>\n",
              "<style scoped>\n",
              "    .dataframe tbody tr th:only-of-type {\n",
              "        vertical-align: middle;\n",
              "    }\n",
              "\n",
              "    .dataframe tbody tr th {\n",
              "        vertical-align: top;\n",
              "    }\n",
              "\n",
              "    .dataframe thead th {\n",
              "        text-align: right;\n",
              "    }\n",
              "</style>\n",
              "<table border=\"1\" class=\"dataframe\">\n",
              "  <thead>\n",
              "    <tr style=\"text-align: right;\">\n",
              "      <th></th>\n",
              "      <th>Id</th>\n",
              "      <th>SepalLengthCm</th>\n",
              "      <th>SepalWidthCm</th>\n",
              "      <th>PetalLengthCm</th>\n",
              "      <th>PetalWidthCm</th>\n",
              "    </tr>\n",
              "  </thead>\n",
              "  <tbody>\n",
              "    <tr>\n",
              "      <th>count</th>\n",
              "      <td>150.000000</td>\n",
              "      <td>150.000000</td>\n",
              "      <td>150.000000</td>\n",
              "      <td>150.000000</td>\n",
              "      <td>150.000000</td>\n",
              "    </tr>\n",
              "    <tr>\n",
              "      <th>mean</th>\n",
              "      <td>75.500000</td>\n",
              "      <td>5.843333</td>\n",
              "      <td>3.054000</td>\n",
              "      <td>3.758667</td>\n",
              "      <td>1.198667</td>\n",
              "    </tr>\n",
              "    <tr>\n",
              "      <th>std</th>\n",
              "      <td>43.445368</td>\n",
              "      <td>0.828066</td>\n",
              "      <td>0.433594</td>\n",
              "      <td>1.764420</td>\n",
              "      <td>0.763161</td>\n",
              "    </tr>\n",
              "    <tr>\n",
              "      <th>min</th>\n",
              "      <td>1.000000</td>\n",
              "      <td>4.300000</td>\n",
              "      <td>2.000000</td>\n",
              "      <td>1.000000</td>\n",
              "      <td>0.100000</td>\n",
              "    </tr>\n",
              "    <tr>\n",
              "      <th>25%</th>\n",
              "      <td>38.250000</td>\n",
              "      <td>5.100000</td>\n",
              "      <td>2.800000</td>\n",
              "      <td>1.600000</td>\n",
              "      <td>0.300000</td>\n",
              "    </tr>\n",
              "    <tr>\n",
              "      <th>50%</th>\n",
              "      <td>75.500000</td>\n",
              "      <td>5.800000</td>\n",
              "      <td>3.000000</td>\n",
              "      <td>4.350000</td>\n",
              "      <td>1.300000</td>\n",
              "    </tr>\n",
              "    <tr>\n",
              "      <th>75%</th>\n",
              "      <td>112.750000</td>\n",
              "      <td>6.400000</td>\n",
              "      <td>3.300000</td>\n",
              "      <td>5.100000</td>\n",
              "      <td>1.800000</td>\n",
              "    </tr>\n",
              "    <tr>\n",
              "      <th>max</th>\n",
              "      <td>150.000000</td>\n",
              "      <td>7.900000</td>\n",
              "      <td>4.400000</td>\n",
              "      <td>6.900000</td>\n",
              "      <td>2.500000</td>\n",
              "    </tr>\n",
              "  </tbody>\n",
              "</table>\n",
              "</div>"
            ],
            "text/plain": [
              "               Id  SepalLengthCm  SepalWidthCm  PetalLengthCm  PetalWidthCm\n",
              "count  150.000000     150.000000    150.000000     150.000000    150.000000\n",
              "mean    75.500000       5.843333      3.054000       3.758667      1.198667\n",
              "std     43.445368       0.828066      0.433594       1.764420      0.763161\n",
              "min      1.000000       4.300000      2.000000       1.000000      0.100000\n",
              "25%     38.250000       5.100000      2.800000       1.600000      0.300000\n",
              "50%     75.500000       5.800000      3.000000       4.350000      1.300000\n",
              "75%    112.750000       6.400000      3.300000       5.100000      1.800000\n",
              "max    150.000000       7.900000      4.400000       6.900000      2.500000"
            ]
          },
          "metadata": {},
          "execution_count": 62
        }
      ]
    },
    {
      "cell_type": "code",
      "source": [
        "data.info()"
      ],
      "metadata": {
        "id": "LY9Yx3-iWKno",
        "colab": {
          "base_uri": "https://localhost:8080/"
        },
        "outputId": "e8742fcd-1d32-4c15-f735-ec983486b536"
      },
      "execution_count": null,
      "outputs": [
        {
          "output_type": "stream",
          "name": "stdout",
          "text": [
            "<class 'pandas.core.frame.DataFrame'>\n",
            "RangeIndex: 150 entries, 0 to 149\n",
            "Data columns (total 6 columns):\n",
            " #   Column         Non-Null Count  Dtype  \n",
            "---  ------         --------------  -----  \n",
            " 0   Id             150 non-null    int64  \n",
            " 1   SepalLengthCm  150 non-null    float64\n",
            " 2   SepalWidthCm   150 non-null    float64\n",
            " 3   PetalLengthCm  150 non-null    float64\n",
            " 4   PetalWidthCm   150 non-null    float64\n",
            " 5   Species        150 non-null    object \n",
            "dtypes: float64(4), int64(1), object(1)\n",
            "memory usage: 7.2+ KB\n"
          ]
        }
      ]
    },
    {
      "cell_type": "code",
      "source": [
        "plt.scatter(data['SepalLengthCm'],data['SepalWidthCm'])\n",
        "plt.show()"
      ],
      "metadata": {
        "id": "Z-AhgbqyWNUW",
        "colab": {
          "base_uri": "https://localhost:8080/",
          "height": 268
        },
        "outputId": "d68137b4-df1d-44ef-def2-a239a1b4dbc1"
      },
      "execution_count": null,
      "outputs": [
        {
          "output_type": "display_data",
          "data": {
            "image/png": "[encoded data removed]",
            "text/plain": [
              "<Figure size 432x288 with 1 Axes>"
            ]
          },
          "metadata": {
            "needs_background": "light"
          }
        }
      ]
    },
    {
      "cell_type": "code",
      "source": [
        "plt.hist(data['SepalLengthCm'])\n",
        "plt.title('Distribution of SepalLengthCm')\n",
        "plt.xlabel('Value')\n",
        "plt.ylabel('Count')\n",
        "plt.show()"
      ],
      "metadata": {
        "id": "0i5nOdfCWo-y",
        "colab": {
          "base_uri": "https://localhost:8080/",
          "height": 295
        },
        "outputId": "893a4ebd-2543-45e2-a20d-c3f3272e3ff9"
      },
      "execution_count": null,
      "outputs": [
        {
          "output_type": "display_data",
          "data": {
            "image/png": "[encoded data removed]",
            "text/plain": [
              "<Figure size 432x288 with 1 Axes>"
            ]
          },
          "metadata": {
            "needs_background": "light"
          }
        }
      ]
    },
    {
      "cell_type": "code",
      "source": [
        "data['Species'].value_counts().plot(kind='bar')"
      ],
      "metadata": {
        "id": "g8vZTnjuYxua",
        "colab": {
          "base_uri": "https://localhost:8080/",
          "height": 340
        },
        "outputId": "d8ec0d4e-ff76-49fd-e499-570ac7521ab0"
      },
      "execution_count": null,
      "outputs": [
        {
          "output_type": "execute_result",
          "data": {
            "text/plain": [
              "<matplotlib.axes._subplots.AxesSubplot at 0x7f9d769ca7d0>"
            ]
          },
          "metadata": {},
          "execution_count": 66
        },
        {
          "output_type": "display_data",
          "data": {
            "image/png": "[encoded data removed]",
            "text/plain": [
              "<Figure size 432x288 with 1 Axes>"
            ]
          },
          "metadata": {
            "needs_background": "light"
          }
        }
      ]
    },
    {
      "cell_type": "code",
      "source": [
        "print('Total null values: \\n', data.isnull().sum())"
      ],
      "metadata": {
        "id": "iseZ0kMMdIgL",
        "colab": {
          "base_uri": "https://localhost:8080/"
        },
        "outputId": "65d88d83-f3f6-4871-8493-428faddc5968"
      },
      "execution_count": null,
      "outputs": [
        {
          "output_type": "stream",
          "name": "stdout",
          "text": [
            "Total null values: \n",
            " Id               0\n",
            "SepalLengthCm    0\n",
            "SepalWidthCm     0\n",
            "PetalLengthCm    0\n",
            "PetalWidthCm     0\n",
            "Species          0\n",
            "dtype: int64\n"
          ]
        }
      ]
    },
    {
      "cell_type": "code",
      "source": [
        "display(data.loc[:4,'SepalLengthCm'])"
      ],
      "metadata": {
        "id": "OW11mkbhdY-q",
        "colab": {
          "base_uri": "https://localhost:8080/",
          "height": 121
        },
        "outputId": "f15c23b1-fe0d-497a-dae0-e2f15a84d873"
      },
      "execution_count": null,
      "outputs": [
        {
          "output_type": "display_data",
          "data": {
            "text/plain": [
              "0    5.1\n",
              "1    4.9\n",
              "2    4.7\n",
              "3    4.6\n",
              "4    5.0\n",
              "Name: SepalLengthCm, dtype: float64"
            ]
          },
          "metadata": {}
        }
      ]
    },
    {
      "cell_type": "code",
      "source": [
        "display(data.loc[4:])"
      ],
      "metadata": {
        "id": "iTZkR9-pdyto",
        "colab": {
          "base_uri": "https://localhost:8080/",
          "height": 423
        },
        "outputId": "5922e986-b735-4657-bf61-7f15c8f7659f"
      },
      "execution_count": null,
      "outputs": [
        {
          "output_type": "display_data",
          "data": {
            "text/html": [
              "<div>\n",
              "<style scoped>\n",
              "    .dataframe tbody tr th:only-of-type {\n",
              "        vertical-align: middle;\n",
              "    }\n",
              "\n",
              "    .dataframe tbody tr th {\n",
              "        vertical-align: top;\n",
              "    }\n",
              "\n",
              "    .dataframe thead th {\n",
              "        text-align: right;\n",
              "    }\n",
              "</style>\n",
              "<table border=\"1\" class=\"dataframe\">\n",
              "  <thead>\n",
              "    <tr style=\"text-align: right;\">\n",
              "      <th></th>\n",
              "      <th>Id</th>\n",
              "      <th>SepalLengthCm</th>\n",
              "      <th>SepalWidthCm</th>\n",
              "      <th>PetalLengthCm</th>\n",
              "      <th>PetalWidthCm</th>\n",
              "      <th>Species</th>\n",
              "    </tr>\n",
              "  </thead>\n",
              "  <tbody>\n",
              "    <tr>\n",
              "      <th>4</th>\n",
              "      <td>5</td>\n",
              "      <td>5.0</td>\n",
              "      <td>3.6</td>\n",
              "      <td>1.4</td>\n",
              "      <td>0.2</td>\n",
              "      <td>Iris-setosa</td>\n",
              "    </tr>\n",
              "    <tr>\n",
              "      <th>5</th>\n",
              "      <td>6</td>\n",
              "      <td>5.4</td>\n",
              "      <td>3.9</td>\n",
              "      <td>1.7</td>\n",
              "      <td>0.4</td>\n",
              "      <td>Iris-setosa</td>\n",
              "    </tr>\n",
              "    <tr>\n",
              "      <th>6</th>\n",
              "      <td>7</td>\n",
              "      <td>4.6</td>\n",
              "      <td>3.4</td>\n",
              "      <td>1.4</td>\n",
              "      <td>0.3</td>\n",
              "      <td>Iris-setosa</td>\n",
              "    </tr>\n",
              "    <tr>\n",
              "      <th>7</th>\n",
              "      <td>8</td>\n",
              "      <td>5.0</td>\n",
              "      <td>3.4</td>\n",
              "      <td>1.5</td>\n",
              "      <td>0.2</td>\n",
              "      <td>Iris-setosa</td>\n",
              "    </tr>\n",
              "    <tr>\n",
              "      <th>8</th>\n",
              "      <td>9</td>\n",
              "      <td>4.4</td>\n",
              "      <td>2.9</td>\n",
              "      <td>1.4</td>\n",
              "      <td>0.2</td>\n",
              "      <td>Iris-setosa</td>\n",
              "    </tr>\n",
              "    <tr>\n",
              "      <th>...</th>\n",
              "      <td>...</td>\n",
              "      <td>...</td>\n",
              "      <td>...</td>\n",
              "      <td>...</td>\n",
              "      <td>...</td>\n",
              "      <td>...</td>\n",
              "    </tr>\n",
              "    <tr>\n",
              "      <th>145</th>\n",
              "      <td>146</td>\n",
              "      <td>6.7</td>\n",
              "      <td>3.0</td>\n",
              "      <td>5.2</td>\n",
              "      <td>2.3</td>\n",
              "      <td>Iris-virginica</td>\n",
              "    </tr>\n",
              "    <tr>\n",
              "      <th>146</th>\n",
              "      <td>147</td>\n",
              "      <td>6.3</td>\n",
              "      <td>2.5</td>\n",
              "      <td>5.0</td>\n",
              "      <td>1.9</td>\n",
              "      <td>Iris-virginica</td>\n",
              "    </tr>\n",
              "    <tr>\n",
              "      <th>147</th>\n",
              "      <td>148</td>\n",
              "      <td>6.5</td>\n",
              "      <td>3.0</td>\n",
              "      <td>5.2</td>\n",
              "      <td>2.0</td>\n",
              "      <td>Iris-virginica</td>\n",
              "    </tr>\n",
              "    <tr>\n",
              "      <th>148</th>\n",
              "      <td>149</td>\n",
              "      <td>6.2</td>\n",
              "      <td>3.4</td>\n",
              "      <td>5.4</td>\n",
              "      <td>2.3</td>\n",
              "      <td>Iris-virginica</td>\n",
              "    </tr>\n",
              "    <tr>\n",
              "      <th>149</th>\n",
              "      <td>150</td>\n",
              "      <td>5.9</td>\n",
              "      <td>3.0</td>\n",
              "      <td>5.1</td>\n",
              "      <td>1.8</td>\n",
              "      <td>Iris-virginica</td>\n",
              "    </tr>\n",
              "  </tbody>\n",
              "</table>\n",
              "<p>146 rows × 6 columns</p>\n",
              "</div>"
            ],
            "text/plain": [
              "      Id  SepalLengthCm  ...  PetalWidthCm         Species\n",
              "4      5            5.0  ...           0.2     Iris-setosa\n",
              "5      6            5.4  ...           0.4     Iris-setosa\n",
              "6      7            4.6  ...           0.3     Iris-setosa\n",
              "7      8            5.0  ...           0.2     Iris-setosa\n",
              "8      9            4.4  ...           0.2     Iris-setosa\n",
              "..   ...            ...  ...           ...             ...\n",
              "145  146            6.7  ...           2.3  Iris-virginica\n",
              "146  147            6.3  ...           1.9  Iris-virginica\n",
              "147  148            6.5  ...           2.0  Iris-virginica\n",
              "148  149            6.2  ...           2.3  Iris-virginica\n",
              "149  150            5.9  ...           1.8  Iris-virginica\n",
              "\n",
              "[146 rows x 6 columns]"
            ]
          },
          "metadata": {}
        }
      ]
    },
    {
      "cell_type": "code",
      "source": [
        ""
      ],
      "metadata": {
        "id": "YF5n6dOweAqB"
      },
      "execution_count": null,
      "outputs": []
    },
    {
      "cell_type": "code",
      "source": [
        ""
      ],
      "metadata": {
        "id": "T3KV7X8IeA4j"
      },
      "execution_count": null,
      "outputs": []
    },
    {
      "cell_type": "markdown",
      "source": [
        "# Lab 1 Scikit Learn"
      ],
      "metadata": {
        "id": "JZV1wkKeeD38"
      }
    },
    {
      "cell_type": "code",
      "source": [
        "import numpy as np\n",
        "\n",
        "import matplotlib.pyplot as plt\n",
        "\n",
        "from sklearn import datasets #various toy datasets \n",
        "\n",
        "from sklearn import metrics #Check accuracy of model \n",
        "\n",
        "from sklearn.linear_model import LogisticRegression #various supervised and unsupervised learning algorithms"
      ],
      "metadata": {
        "id": "a5i006sdeRua"
      },
      "execution_count": null,
      "outputs": []
    },
    {
      "cell_type": "code",
      "source": [
        "  wine=datasets.load_wine()\n",
        "  type(wine)"
      ],
      "metadata": {
        "id": "kbTfzMpheS9O",
        "colab": {
          "base_uri": "https://localhost:8080/"
        },
        "outputId": "61992bb9-a6bf-4285-8823-e2d85352e19f"
      },
      "execution_count": null,
      "outputs": [
        {
          "output_type": "execute_result",
          "data": {
            "text/plain": [
              "sklearn.utils.Bunch"
            ]
          },
          "metadata": {},
          "execution_count": 71
        }
      ]
    },
    {
      "cell_type": "code",
      "source": [
        "X=wine.data\n",
        "y=wine.target\n",
        "\n",
        "target_names= wine.target_names\n",
        "feature_names= wine.feature_names\n",
        "\n",
        "print(\"Feature names: \", feature_names)\n",
        "print(\"Target names: \", target_names)\n",
        "\n",
        "print(\"\\nFirst 5 rows of features: \\n\", X[:5])\n"
      ],
      "metadata": {
        "id": "syXgzqqTeTA1",
        "colab": {
          "base_uri": "https://localhost:8080/"
        },
        "outputId": "27a0b771-0f99-4338-a960-5dee5908e970"
      },
      "execution_count": null,
      "outputs": [
        {
          "output_type": "stream",
          "name": "stdout",
          "text": [
            "Feature names:  ['alcohol', 'malic_acid', 'ash', 'alcalinity_of_ash', 'magnesium', 'total_phenols', 'flavanoids', 'nonflavanoid_phenols', 'proanthocyanins', 'color_intensity', 'hue', 'od280/od315_of_diluted_wines', 'proline']\n",
            "Target names:  ['class_0' 'class_1' 'class_2']\n",
            "\n",
            "First 5 rows of features: \n",
            " [[1.423e+01 1.710e+00 2.430e+00 1.560e+01 1.270e+02 2.800e+00 3.060e+00\n",
            "  2.800e-01 2.290e+00 5.640e+00 1.040e+00 3.920e+00 1.065e+03]\n",
            " [1.320e+01 1.780e+00 2.140e+00 1.120e+01 1.000e+02 2.650e+00 2.760e+00\n",
            "  2.600e-01 1.280e+00 4.380e+00 1.050e+00 3.400e+00 1.050e+03]\n",
            " [1.316e+01 2.360e+00 2.670e+00 1.860e+01 1.010e+02 2.800e+00 3.240e+00\n",
            "  3.000e-01 2.810e+00 5.680e+00 1.030e+00 3.170e+00 1.185e+03]\n",
            " [1.437e+01 1.950e+00 2.500e+00 1.680e+01 1.130e+02 3.850e+00 3.490e+00\n",
            "  2.400e-01 2.180e+00 7.800e+00 8.600e-01 3.450e+00 1.480e+03]\n",
            " [1.324e+01 2.590e+00 2.870e+00 2.100e+01 1.180e+02 2.800e+00 2.690e+00\n",
            "  3.900e-01 1.820e+00 4.320e+00 1.040e+00 2.930e+00 7.350e+02]]\n"
          ]
        }
      ]
    },
    {
      "cell_type": "code",
      "source": [
        "plt.scatter(X[:,0],y)\n",
        "plt.xlabel('Alcohol content')\n",
        "plt.ylabel('Target')"
      ],
      "metadata": {
        "id": "jTrJLBxRKdoT",
        "colab": {
          "base_uri": "https://localhost:8080/",
          "height": 296
        },
        "outputId": "dbee3aa6-7e15-4db1-a9a1-0fbfa1e0d6cc"
      },
      "execution_count": null,
      "outputs": [
        {
          "output_type": "execute_result",
          "data": {
            "text/plain": [
              "Text(0, 0.5, 'Target')"
            ]
          },
          "metadata": {},
          "execution_count": 73
        },
        {
          "output_type": "display_data",
          "data": {
            "image/png": "[encoded data removed]",
            "text/plain": [
              "<Figure size 432x288 with 1 Axes>"
            ]
          },
          "metadata": {
            "needs_background": "light"
          }
        }
      ]
    },
    {
      "cell_type": "code",
      "source": [
        "print(y)"
      ],
      "metadata": {
        "id": "w1DqivKgMFOQ",
        "colab": {
          "base_uri": "https://localhost:8080/"
        },
        "outputId": "8ce501b3-f59f-4ccd-f98d-8706d541445a"
      },
      "execution_count": null,
      "outputs": [
        {
          "output_type": "stream",
          "name": "stdout",
          "text": [
            "[0 0 0 0 0 0 0 0 0 0 0 0 0 0 0 0 0 0 0 0 0 0 0 0 0 0 0 0 0 0 0 0 0 0 0 0 0\n",
            " 0 0 0 0 0 0 0 0 0 0 0 0 0 0 0 0 0 0 0 0 0 0 1 1 1 1 1 1 1 1 1 1 1 1 1 1 1\n",
            " 1 1 1 1 1 1 1 1 1 1 1 1 1 1 1 1 1 1 1 1 1 1 1 1 1 1 1 1 1 1 1 1 1 1 1 1 1\n",
            " 1 1 1 1 1 1 1 1 1 1 1 1 1 1 1 1 1 1 1 2 2 2 2 2 2 2 2 2 2 2 2 2 2 2 2 2 2\n",
            " 2 2 2 2 2 2 2 2 2 2 2 2 2 2 2 2 2 2 2 2 2 2 2 2 2 2 2 2 2 2]\n"
          ]
        }
      ]
    },
    {
      "cell_type": "code",
      "source": [
        "from sklearn.model_selection import train_test_split"
      ],
      "metadata": {
        "id": "hXA9opZ_Ia7q"
      },
      "execution_count": null,
      "outputs": []
    },
    {
      "cell_type": "code",
      "source": [
        "X_train, X_test, y_train, y_test= train_test_split(X,y,test_size=0.4,random_state=1)"
      ],
      "metadata": {
        "id": "1zbcA9e8IzZY"
      },
      "execution_count": null,
      "outputs": []
    },
    {
      "cell_type": "code",
      "source": [
        "print(\"Original size of X and y\")\n",
        "print(X.shape)\n",
        "print(y.shape)\n",
        "\n",
        "print(\"\\nTraining and testing sizes X\")\n",
        "print(X_train.shape)\n",
        "print(X_test.shape)\n",
        "\n",
        "print(\"\\ntraining and Testing sizes y\")\n",
        "print(y_train.shape)\n",
        "print(y_test.shape)"
      ],
      "metadata": {
        "id": "R6Auqy6yJD0M",
        "colab": {
          "base_uri": "https://localhost:8080/"
        },
        "outputId": "a0a1a4a6-f9c6-400f-ea84-baa6dd9a69e2"
      },
      "execution_count": null,
      "outputs": [
        {
          "output_type": "stream",
          "name": "stdout",
          "text": [
            "Original size of X and y\n",
            "(178, 13)\n",
            "(178,)\n",
            "\n",
            "Training and testing sizes X\n",
            "(106, 13)\n",
            "(72, 13)\n",
            "\n",
            "training and Testing sizes y\n",
            "(106,)\n",
            "(72,)\n"
          ]
        }
      ]
    },
    {
      "cell_type": "code",
      "source": [
        "#fit the model\n",
        "from sklearn.ensemble import RandomForestClassifier\n",
        "model=RandomForestClassifier(random_state=1)\n",
        "model.fit(X_train,y_train)\n",
        "y_predict=model.predict(X_test)"
      ],
      "metadata": {
        "id": "QdbTzMTRNuYj"
      },
      "execution_count": null,
      "outputs": []
    },
    {
      "cell_type": "code",
      "source": [
        "from sklearn import metrics\n",
        "print(metrics.classification_report(y_test, y_predict))"
      ],
      "metadata": {
        "id": "z3S4Kc-kPGqM",
        "colab": {
          "base_uri": "https://localhost:8080/"
        },
        "outputId": "88960893-e337-4d35-c6fb-df81028e391f"
      },
      "execution_count": null,
      "outputs": [
        {
          "output_type": "stream",
          "name": "stdout",
          "text": [
            "              precision    recall  f1-score   support\n",
            "\n",
            "           0       0.97      1.00      0.98        28\n",
            "           1       1.00      0.96      0.98        27\n",
            "           2       1.00      1.00      1.00        17\n",
            "\n",
            "    accuracy                           0.99        72\n",
            "   macro avg       0.99      0.99      0.99        72\n",
            "weighted avg       0.99      0.99      0.99        72\n",
            "\n"
          ]
        }
      ]
    },
    {
      "cell_type": "code",
      "source": [
        ""
      ],
      "metadata": {
        "id": "ecJw1jTtPGwi"
      },
      "execution_count": null,
      "outputs": []
    },
    {
      "cell_type": "markdown",
      "source": [
        "# NLTK of pros_cons data\n"
      ],
      "metadata": {
        "id": "mkrHfoDpPIXE"
      }
    },
    {
      "cell_type": "code",
      "source": [
        "import nltk\n",
        "from nltk.corpus import pros_cons\n",
        "import matplotlib.pyplot as plt\n",
        "import random\n"
      ],
      "metadata": {
        "id": "3c7ab9FNPQ7t"
      },
      "execution_count": null,
      "outputs": []
    },
    {
      "cell_type": "code",
      "source": [
        "nltk.download('pros_cons')"
      ],
      "metadata": {
        "id": "DHDFqujvQjGh",
        "colab": {
          "base_uri": "https://localhost:8080/"
        },
        "outputId": "4a6275f3-5222-46c2-8a7e-7bcff960550c"
      },
      "execution_count": null,
      "outputs": [
        {
          "output_type": "stream",
          "name": "stdout",
          "text": [
            "[nltk_data] Downloading package pros_cons to /root/nltk_data...\n",
            "[nltk_data]   Package pros_cons is already up-to-date!\n"
          ]
        },
        {
          "output_type": "execute_result",
          "data": {
            "text/plain": [
              "True"
            ]
          },
          "metadata": {},
          "execution_count": 81
        }
      ]
    },
    {
      "cell_type": "code",
      "source": [
        "print(pros_cons.fileids())"
      ],
      "metadata": {
        "id": "8L8pD2KWQ7cB",
        "colab": {
          "base_uri": "https://localhost:8080/"
        },
        "outputId": "885d1084-48a7-4e87-b27a-38efba571ab9"
      },
      "execution_count": null,
      "outputs": [
        {
          "output_type": "stream",
          "name": "stdout",
          "text": [
            "['IntegratedCons.txt', 'IntegratedPros.txt']\n"
          ]
        }
      ]
    },
    {
      "cell_type": "code",
      "source": [
        "pros=pros_cons.words('IntegratedPros.txt')\n",
        "print(pros)\n",
        "print(len(pros))\n",
        "sentences_pros = pros_cons.sents('IntegratedPros.txt')\n",
        "print(sentences_pros[200])\n",
        "print(len(sentences_pros))"
      ],
      "metadata": {
        "id": "yDK3ecekSHAY",
        "colab": {
          "base_uri": "https://localhost:8080/"
        },
        "outputId": "76f3f31b-03b9-439a-ceb3-092d98d06ec3"
      },
      "execution_count": null,
      "outputs": [
        {
          "output_type": "stream",
          "name": "stdout",
          "text": [
            "['Easy', 'to', 'use', ',', 'economical', '!', ...]\n",
            "220420\n",
            "['Cheap', ',', 'tiny', '.']\n",
            "22940\n"
          ]
        }
      ]
    },
    {
      "cell_type": "code",
      "source": [
        "cons=pros_cons.words('IntegratedCons.txt')\n",
        "print(cons)\n",
        "print(len(cons))\n",
        "sentences_cons = pros_cons.sents('IntegratedCons.txt')\n",
        "print(sentences_cons[200])\n",
        "print(len(sentences_cons))"
      ],
      "metadata": {
        "id": "TvSN9629BlNm",
        "colab": {
          "base_uri": "https://localhost:8080/"
        },
        "outputId": "e2647b6a-a137-4470-c927-49c741492453"
      },
      "execution_count": null,
      "outputs": [
        {
          "output_type": "stream",
          "name": "stdout",
          "text": [
            "['East', 'batteries', '!', 'On', '-', 'off', 'switch', ...]\n",
            "199762\n",
            "['Horrible', 'image', 'quality', ',', 'pathetic', 'battery', 'life', ',', 'no', 'focus', ',', 'the', 'list', 'goes', 'on', '...']\n",
            "22935\n"
          ]
        }
      ]
    },
    {
      "cell_type": "code",
      "source": [
        "all_pros=sentences_pros\n",
        "all_cons=sentences_cons\n",
        "print(\"total Pros: \", len(all_pros))\n",
        "print(\"total Cons: \", len(all_cons))"
      ],
      "metadata": {
        "id": "TnjZyHTxEICR",
        "colab": {
          "base_uri": "https://localhost:8080/"
        },
        "outputId": "8498e682-f7a6-428a-fdc1-d1a0739ae3fc"
      },
      "execution_count": null,
      "outputs": [
        {
          "output_type": "stream",
          "name": "stdout",
          "text": [
            "total Pros:  22940\n",
            "total Cons:  22935\n"
          ]
        }
      ]
    },
    {
      "cell_type": "code",
      "source": [
        "print(type(all_pros))\n",
        "print(type(all_pros[10]))"
      ],
      "metadata": {
        "id": "UYRJLNwREnIJ",
        "colab": {
          "base_uri": "https://localhost:8080/"
        },
        "outputId": "a5af1023-0c79-4932-80be-0aa20630eb47"
      },
      "execution_count": null,
      "outputs": [
        {
          "output_type": "stream",
          "name": "stdout",
          "text": [
            "<class 'nltk.corpus.reader.util.StreamBackedCorpusView'>\n",
            "<class 'list'>\n"
          ]
        }
      ]
    },
    {
      "cell_type": "code",
      "source": [
        "print(all_pros)"
      ],
      "metadata": {
        "id": "3bq5Ay4KE5ld",
        "colab": {
          "base_uri": "https://localhost:8080/"
        },
        "outputId": "29e704fc-db1e-4633-f930-028c91153f26"
      },
      "execution_count": null,
      "outputs": [
        {
          "output_type": "stream",
          "name": "stdout",
          "text": [
            "[['Easy', 'to', 'use', ',', 'economical', '!'], ['Digital', 'is', 'where', 'it', \"'\", 's', 'at', '...', 'down', 'with', 'developing', 'film', '!'], ...]\n"
          ]
        }
      ]
    },
    {
      "cell_type": "code",
      "source": [
        "fig = plt.figure(figsize=(5,5))\n",
        "\n",
        "labels = 'Pros', 'Cons'\n",
        "sizes= [len(all_pros), len(all_cons)]\n",
        "\n",
        "plt.pie(sizes, labels=labels, autopct='%1.1f%%', shadow=True, startangle=90)\n",
        "\n",
        "plt.axis('equal')\n",
        "plt.show()"
      ],
      "metadata": {
        "id": "tpThrIxPFeen",
        "colab": {
          "base_uri": "https://localhost:8080/",
          "height": 303
        },
        "outputId": "a3523a3b-2403-4e94-a07d-7606982a4006"
      },
      "execution_count": null,
      "outputs": [
        {
          "output_type": "display_data",
          "data": {
            "image/png": "[encoded data removed]",
            "text/plain": [
              "<Figure size 360x360 with 1 Axes>"
            ]
          },
          "metadata": {}
        }
      ]
    },
    {
      "cell_type": "markdown",
      "source": [
        "**Preprocessing**\n"
      ],
      "metadata": {
        "id": "UI4fRdhZKGb2"
      }
    },
    {
      "cell_type": "code",
      "source": [
        "sentence= all_pros[2543]\n",
        "print(sentence)"
      ],
      "metadata": {
        "id": "_RwM8r1eHI8_",
        "colab": {
          "base_uri": "https://localhost:8080/"
        },
        "outputId": "c2fd30ab-86aa-460a-d9d0-5f7b7de08ce2"
      },
      "execution_count": null,
      "outputs": [
        {
          "output_type": "stream",
          "name": "stdout",
          "text": [
            "['great', 'zoom', 'feature', ',', 'megapixels', 'improved', ',', 'compact']\n"
          ]
        }
      ]
    },
    {
      "cell_type": "code",
      "source": [
        "nltk.download('stopwords')"
      ],
      "metadata": {
        "id": "l7bSlGRXKCEj",
        "colab": {
          "base_uri": "https://localhost:8080/"
        },
        "outputId": "6087243b-4ed7-48c5-fc24-8820e94d3011"
      },
      "execution_count": null,
      "outputs": [
        {
          "output_type": "stream",
          "name": "stdout",
          "text": [
            "[nltk_data] Downloading package stopwords to /root/nltk_data...\n",
            "[nltk_data]   Package stopwords is already up-to-date!\n"
          ]
        },
        {
          "output_type": "execute_result",
          "data": {
            "text/plain": [
              "True"
            ]
          },
          "metadata": {},
          "execution_count": 90
        }
      ]
    },
    {
      "cell_type": "code",
      "source": [
        "nltk.download('punkt')"
      ],
      "metadata": {
        "id": "3jbQ8aU3MZlQ",
        "colab": {
          "base_uri": "https://localhost:8080/"
        },
        "outputId": "e86f75c5-ae33-4abe-a686-d3a5572ed01d"
      },
      "execution_count": null,
      "outputs": [
        {
          "output_type": "stream",
          "name": "stdout",
          "text": [
            "[nltk_data] Downloading package punkt to /root/nltk_data...\n",
            "[nltk_data]   Package punkt is already up-to-date!\n"
          ]
        },
        {
          "output_type": "execute_result",
          "data": {
            "text/plain": [
              "True"
            ]
          },
          "metadata": {},
          "execution_count": 91
        }
      ]
    },
    {
      "cell_type": "code",
      "source": [
        "import re  # for regex operations\n",
        "import string\n",
        "\n",
        "from nltk.corpus import stopwords\n",
        "from nltk.stem import PorterStemmer\n",
        "from nltk.tokenize import word_tokenize\n"
      ],
      "metadata": {
        "id": "YFRnhhueNAL0"
      },
      "execution_count": null,
      "outputs": []
    },
    {
      "cell_type": "code",
      "source": [
        "type(sentence)"
      ],
      "metadata": {
        "id": "ij7A1yazLEps",
        "colab": {
          "base_uri": "https://localhost:8080/"
        },
        "outputId": "e6221b79-0dd6-4433-f8bd-14422a34c285"
      },
      "execution_count": null,
      "outputs": [
        {
          "output_type": "execute_result",
          "data": {
            "text/plain": [
              "list"
            ]
          },
          "metadata": {},
          "execution_count": 93
        }
      ]
    },
    {
      "cell_type": "code",
      "source": [
        "sentence=' '.join(sentence) #converting to string\n",
        "tokens=word_tokenize(sentence)"
      ],
      "metadata": {
        "id": "X6aOyZ1LMULS"
      },
      "execution_count": null,
      "outputs": []
    },
    {
      "cell_type": "code",
      "source": [
        "print('Tokenized string: ')\n",
        "print(tokens)"
      ],
      "metadata": {
        "id": "vC2YN59xNBzW",
        "colab": {
          "base_uri": "https://localhost:8080/"
        },
        "outputId": "bffe9115-57ae-498b-a1e1-b9d50d8d6cb4"
      },
      "execution_count": null,
      "outputs": [
        {
          "output_type": "stream",
          "name": "stdout",
          "text": [
            "Tokenized string: \n",
            "['great', 'zoom', 'feature', ',', 'megapixels', 'improved', ',', 'compact']\n"
          ]
        }
      ]
    },
    {
      "cell_type": "code",
      "source": [
        "stopwords_english= stopwords.words('english')\n",
        "\n",
        "print('Stop words\\n')\n",
        "print(stopwords_english)\n",
        "print('Punctuation: \\n')\n",
        "print(string.punctuation)"
      ],
      "metadata": {
        "id": "DAFx9q2dN3io",
        "colab": {
          "base_uri": "https://localhost:8080/"
        },
        "outputId": "ce41175c-5df7-4414-f49f-a719146887b5"
      },
      "execution_count": null,
      "outputs": [
        {
          "output_type": "stream",
          "name": "stdout",
          "text": [
            "Stop words\n",
            "\n",
            "['i', 'me', 'my', 'myself', 'we', 'our', 'ours', 'ourselves', 'you', \"you're\", \"you've\", \"you'll\", \"you'd\", 'your', 'yours', 'yourself', 'yourselves', 'he', 'him', 'his', 'himself', 'she', \"she's\", 'her', 'hers', 'herself', 'it', \"it's\", 'its', 'itself', 'they', 'them', 'their', 'theirs', 'themselves', 'what', 'which', 'who', 'whom', 'this', 'that', \"that'll\", 'these', 'those', 'am', 'is', 'are', 'was', 'were', 'be', 'been', 'being', 'have', 'has', 'had', 'having', 'do', 'does', 'did', 'doing', 'a', 'an', 'the', 'and', 'but', 'if', 'or', 'because', 'as', 'until', 'while', 'of', 'at', 'by', 'for', 'with', 'about', 'against', 'between', 'into', 'through', 'during', 'before', 'after', 'above', 'below', 'to', 'from', 'up', 'down', 'in', 'out', 'on', 'off', 'over', 'under', 'again', 'further', 'then', 'once', 'here', 'there', 'when', 'where', 'why', 'how', 'all', 'any', 'both', 'each', 'few', 'more', 'most', 'other', 'some', 'such', 'no', 'nor', 'not', 'only', 'own', 'same', 'so', 'than', 'too', 'very', 's', 't', 'can', 'will', 'just', 'don', \"don't\", 'should', \"should've\", 'now', 'd', 'll', 'm', 'o', 're', 've', 'y', 'ain', 'aren', \"aren't\", 'couldn', \"couldn't\", 'didn', \"didn't\", 'doesn', \"doesn't\", 'hadn', \"hadn't\", 'hasn', \"hasn't\", 'haven', \"haven't\", 'isn', \"isn't\", 'ma', 'mightn', \"mightn't\", 'mustn', \"mustn't\", 'needn', \"needn't\", 'shan', \"shan't\", 'shouldn', \"shouldn't\", 'wasn', \"wasn't\", 'weren', \"weren't\", 'won', \"won't\", 'wouldn', \"wouldn't\"]\n",
            "Punctuation: \n",
            "\n",
            "!\"#$%&'()*+,-./:;<=>?@[\\]^_`{|}~\n"
          ]
        }
      ]
    },
    {
      "cell_type": "code",
      "source": [
        "print(tokens)\n",
        "\n",
        "sentence_clean= []\n",
        "\n",
        "for word in tokens:\n",
        "  if(word not in stopwords_english and\n",
        "     word not in string.punctuation):\n",
        "    sentence_clean.append(word)\n",
        "\n",
        "print('\\nRemoved stopwords and punctuations: ')\n",
        "print(sentence_clean)"
      ],
      "metadata": {
        "id": "WccMoi0pOT0l",
        "colab": {
          "base_uri": "https://localhost:8080/"
        },
        "outputId": "d29dbf20-566a-4701-fb6c-972cbc2c8632"
      },
      "execution_count": null,
      "outputs": [
        {
          "output_type": "stream",
          "name": "stdout",
          "text": [
            "['great', 'zoom', 'feature', ',', 'megapixels', 'improved', ',', 'compact']\n",
            "\n",
            "Removed stopwords and punctuations: \n",
            "['great', 'zoom', 'feature', 'megapixels', 'improved', 'compact']\n"
          ]
        }
      ]
    },
    {
      "cell_type": "code",
      "source": [
        "print(sentence_clean)\n",
        "print()\n",
        "\n",
        "stemmer= PorterStemmer()\n",
        "\n",
        "sentence_stem=[]\n",
        "\n",
        "for word in sentence_clean:\n",
        "  stem_word= stemmer.stem(word)\n",
        "  sentence_stem.append(stem_word)\n",
        "\n",
        "print(\"Stemmed word: \")\n",
        "print(sentence_stem)"
      ],
      "metadata": {
        "id": "amfQecPAPIW0",
        "colab": {
          "base_uri": "https://localhost:8080/"
        },
        "outputId": "a48204a2-365a-485f-b7cf-58c4d7d80f49"
      },
      "execution_count": null,
      "outputs": [
        {
          "output_type": "stream",
          "name": "stdout",
          "text": [
            "['great', 'zoom', 'feature', 'megapixels', 'improved', 'compact']\n",
            "\n",
            "Stemmed word: \n",
            "['great', 'zoom', 'featur', 'megapixel', 'improv', 'compact']\n"
          ]
        }
      ]
    },
    {
      "cell_type": "code",
      "source": [
        ""
      ],
      "metadata": {
        "id": "Rn2p_2_5P40t"
      },
      "execution_count": null,
      "outputs": []
    }
  ]
}