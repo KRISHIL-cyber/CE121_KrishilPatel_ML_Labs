{
  "nbformat": 4,
  "nbformat_minor": 0,
  "metadata": {
    "colab": {
      "name": "SVM.ipynb",
      "provenance": [],
      "collapsed_sections": []
    },
    "kernelspec": {
      "name": "python3",
      "display_name": "Python 3"
    },
    "language_info": {
      "name": "python"
    }
  },
  "cells": [
    {
      "cell_type": "code",
      "execution_count": 1,
      "metadata": {
        "id": "kvGqDBpbWKkS"
      },
      "outputs": [],
      "source": [
        "import sys,os\n",
        "import matplotlib.pyplot as plt\n",
        "from sklearn import svm,metrics\n",
        "from sklearn.model_selection import train_test_split\n",
        "import numpy as np\n",
        "from sklearn.datasets import load_digits"
      ]
    },
    {
      "cell_type": "code",
      "source": [
        "digits = load_digits()\n",
        "digits.data.shape"
      ],
      "metadata": {
        "colab": {
          "base_uri": "https://localhost:8080/"
        },
        "id": "Vn2sNQs-PSF2",
        "outputId": "d30f543d-a58c-4fd0-d514-bf71a247b705"
      },
      "execution_count": 2,
      "outputs": [
        {
          "output_type": "execute_result",
          "data": {
            "text/plain": [
              "(1797, 64)"
            ]
          },
          "metadata": {},
          "execution_count": 2
        }
      ]
    },
    {
      "cell_type": "code",
      "source": [
        "print(digits.target)"
      ],
      "metadata": {
        "colab": {
          "base_uri": "https://localhost:8080/"
        },
        "id": "82GhdkKGPT7o",
        "outputId": "26c78e3c-34f3-4bb3-f865-7b7ed1411593"
      },
      "execution_count": 3,
      "outputs": [
        {
          "output_type": "stream",
          "name": "stdout",
          "text": [
            "[0 1 2 ... 8 9 8]\n"
          ]
        }
      ]
    },
    {
      "cell_type": "code",
      "source": [
        "X_train, X_test, y_train, y_test = train_test_split(digits.data, digits.target, test_size = 0.25 ,random_state = 121)"
      ],
      "metadata": {
        "id": "d36B9pdFPVdZ"
      },
      "execution_count": 5,
      "outputs": []
    },
    {
      "cell_type": "markdown",
      "source": [
        "#Linear Kernel"
      ],
      "metadata": {
        "id": "t1dxRnHvPoUm"
      }
    },
    {
      "cell_type": "code",
      "source": [
        "lsc = svm.SVC(kernel='linear')"
      ],
      "metadata": {
        "id": "vu4bDGpOPbNM"
      },
      "execution_count": 6,
      "outputs": []
    },
    {
      "cell_type": "code",
      "source": [
        "lsc.fit(X_train,y_train)"
      ],
      "metadata": {
        "colab": {
          "base_uri": "https://localhost:8080/"
        },
        "id": "IRR4sGdpPsvL",
        "outputId": "4877edf4-8861-4c94-f2af-cc239bb347d3"
      },
      "execution_count": 7,
      "outputs": [
        {
          "output_type": "execute_result",
          "data": {
            "text/plain": [
              "SVC(kernel='linear')"
            ]
          },
          "metadata": {},
          "execution_count": 7
        }
      ]
    },
    {
      "cell_type": "code",
      "source": [
        "y_predict_linear=lsc.predict(X_test)"
      ],
      "metadata": {
        "id": "JklWeH7KPxtw"
      },
      "execution_count": 8,
      "outputs": []
    },
    {
      "cell_type": "code",
      "source": [
        "print(\"Classification report: \", metrics.classification_report(y_test,y_predict_linear))\n",
        "print(\"\\nConfusion matrix: \\n\", metrics.confusion_matrix(y_test,y_predict_linear))\n",
        "print(\"\\n\\nAccuracy: \", metrics.accuracy_score(y_test,y_predict_linear))"
      ],
      "metadata": {
        "colab": {
          "base_uri": "https://localhost:8080/"
        },
        "id": "_afhwHTtP4xW",
        "outputId": "5ee4d124-658b-477b-d53e-a627c0782ebe"
      },
      "execution_count": 19,
      "outputs": [
        {
          "output_type": "stream",
          "name": "stdout",
          "text": [
            "Classification report:                precision    recall  f1-score   support\n",
            "\n",
            "           0       1.00      0.98      0.99        54\n",
            "           1       1.00      1.00      1.00        42\n",
            "           2       1.00      1.00      1.00        43\n",
            "           3       1.00      0.93      0.96        42\n",
            "           4       0.96      1.00      0.98        47\n",
            "           5       0.93      0.98      0.95        43\n",
            "           6       0.98      0.98      0.98        46\n",
            "           7       1.00      1.00      1.00        42\n",
            "           8       0.95      0.98      0.97        43\n",
            "           9       0.98      0.96      0.97        48\n",
            "\n",
            "    accuracy                           0.98       450\n",
            "   macro avg       0.98      0.98      0.98       450\n",
            "weighted avg       0.98      0.98      0.98       450\n",
            "\n",
            "\n",
            "Confusion matrix: \n",
            " [[53  0  0  0  1  0  0  0  0  0]\n",
            " [ 0 42  0  0  0  0  0  0  0  0]\n",
            " [ 0  0 43  0  0  0  0  0  0  0]\n",
            " [ 0  0  0 39  0  2  0  0  0  1]\n",
            " [ 0  0  0  0 47  0  0  0  0  0]\n",
            " [ 0  0  0  0  0 42  1  0  0  0]\n",
            " [ 0  0  0  0  0  0 45  0  1  0]\n",
            " [ 0  0  0  0  0  0  0 42  0  0]\n",
            " [ 0  0  0  0  0  1  0  0 42  0]\n",
            " [ 0  0  0  0  1  0  0  0  1 46]]\n",
            "\n",
            "\n",
            "Accuracy:  0.98\n"
          ]
        }
      ]
    },
    {
      "cell_type": "markdown",
      "source": [
        "#RBF Kernel"
      ],
      "metadata": {
        "id": "1rYr4_MYQt7L"
      }
    },
    {
      "cell_type": "code",
      "source": [
        "svmRBF = svm.SVC(kernel='rbf')"
      ],
      "metadata": {
        "id": "Fc0aIhVDQGUO"
      },
      "execution_count": 13,
      "outputs": []
    },
    {
      "cell_type": "code",
      "source": [
        "svmRBF.fit(X_train,y_train)"
      ],
      "metadata": {
        "colab": {
          "base_uri": "https://localhost:8080/"
        },
        "id": "VP8hYNq1Q2PQ",
        "outputId": "a00c2a01-68e9-4088-f9bf-0af3235946ee"
      },
      "execution_count": 14,
      "outputs": [
        {
          "output_type": "execute_result",
          "data": {
            "text/plain": [
              "SVC()"
            ]
          },
          "metadata": {},
          "execution_count": 14
        }
      ]
    },
    {
      "cell_type": "code",
      "source": [
        "y_pred_RBF=svmRBF.predict(X_test)"
      ],
      "metadata": {
        "id": "MVqKx-iHQ8XO"
      },
      "execution_count": 16,
      "outputs": []
    },
    {
      "cell_type": "code",
      "source": [
        "print(\"Classification report: \", metrics.classification_report(y_test,y_pred_RBF))\n",
        "print(\"\\nConfusion matrix: \\n\", metrics.confusion_matrix(y_test,y_pred_RBF))\n",
        "print(\"\\n\\nAccuracy: \", metrics.accuracy_score(y_test,y_pred_RBF))"
      ],
      "metadata": {
        "colab": {
          "base_uri": "https://localhost:8080/"
        },
        "id": "vca_QX1ORC32",
        "outputId": "cf1ff09e-ab05-48b6-f1a1-47455097c3f7"
      },
      "execution_count": 20,
      "outputs": [
        {
          "output_type": "stream",
          "name": "stdout",
          "text": [
            "Classification report:                precision    recall  f1-score   support\n",
            "\n",
            "           0       1.00      1.00      1.00        54\n",
            "           1       1.00      1.00      1.00        42\n",
            "           2       1.00      1.00      1.00        43\n",
            "           3       1.00      0.95      0.98        42\n",
            "           4       1.00      0.98      0.99        47\n",
            "           5       0.98      0.98      0.98        43\n",
            "           6       0.98      1.00      0.99        46\n",
            "           7       1.00      1.00      1.00        42\n",
            "           8       0.93      1.00      0.97        43\n",
            "           9       1.00      0.98      0.99        48\n",
            "\n",
            "    accuracy                           0.99       450\n",
            "   macro avg       0.99      0.99      0.99       450\n",
            "weighted avg       0.99      0.99      0.99       450\n",
            "\n",
            "\n",
            "Confusion matrix: \n",
            " [[54  0  0  0  0  0  0  0  0  0]\n",
            " [ 0 42  0  0  0  0  0  0  0  0]\n",
            " [ 0  0 43  0  0  0  0  0  0  0]\n",
            " [ 0  0  0 40  0  1  0  0  1  0]\n",
            " [ 0  0  0  0 46  0  0  0  1  0]\n",
            " [ 0  0  0  0  0 42  1  0  0  0]\n",
            " [ 0  0  0  0  0  0 46  0  0  0]\n",
            " [ 0  0  0  0  0  0  0 42  0  0]\n",
            " [ 0  0  0  0  0  0  0  0 43  0]\n",
            " [ 0  0  0  0  0  0  0  0  1 47]]\n",
            "\n",
            "\n",
            "Accuracy:  0.9888888888888889\n"
          ]
        }
      ]
    },
    {
      "cell_type": "markdown",
      "source": [
        "#Polynomial Kernel"
      ],
      "metadata": {
        "id": "gDFfgcQPR-Ic"
      }
    },
    {
      "cell_type": "code",
      "source": [
        "svm_poly=svm.SVC(kernel='poly')"
      ],
      "metadata": {
        "id": "kFgxMoXFROop"
      },
      "execution_count": 21,
      "outputs": []
    },
    {
      "cell_type": "code",
      "source": [
        "svm_poly.fit(X_train,y_train)"
      ],
      "metadata": {
        "colab": {
          "base_uri": "https://localhost:8080/"
        },
        "id": "nOzy_RlESG0S",
        "outputId": "34232216-a7ff-4513-cb2d-5ee36990fada"
      },
      "execution_count": 22,
      "outputs": [
        {
          "output_type": "execute_result",
          "data": {
            "text/plain": [
              "SVC(kernel='poly')"
            ]
          },
          "metadata": {},
          "execution_count": 22
        }
      ]
    },
    {
      "cell_type": "code",
      "source": [
        "y_pred_poly=svm_poly.predict(X_test)"
      ],
      "metadata": {
        "id": "GyCksew7SLwB"
      },
      "execution_count": 23,
      "outputs": []
    },
    {
      "cell_type": "code",
      "source": [
        "print(\"Classification report: \", metrics.classification_report(y_test,y_pred_poly))\n",
        "print(\"\\nConfusion matrix: \\n\", metrics.confusion_matrix(y_test,y_pred_poly))\n",
        "print(\"\\n\\nAccuracy: \", metrics.accuracy_score(y_test,y_pred_poly))"
      ],
      "metadata": {
        "colab": {
          "base_uri": "https://localhost:8080/"
        },
        "id": "XYdvf3AuSRum",
        "outputId": "d6effce4-2ea7-4db0-dc03-366b208e4c0a"
      },
      "execution_count": 24,
      "outputs": [
        {
          "output_type": "stream",
          "name": "stdout",
          "text": [
            "Classification report:                precision    recall  f1-score   support\n",
            "\n",
            "           0       1.00      0.98      0.99        54\n",
            "           1       1.00      1.00      1.00        42\n",
            "           2       1.00      1.00      1.00        43\n",
            "           3       1.00      0.95      0.98        42\n",
            "           4       0.98      1.00      0.99        47\n",
            "           5       0.95      0.98      0.97        43\n",
            "           6       0.98      0.98      0.98        46\n",
            "           7       1.00      1.00      1.00        42\n",
            "           8       0.96      1.00      0.98        43\n",
            "           9       1.00      0.98      0.99        48\n",
            "\n",
            "    accuracy                           0.99       450\n",
            "   macro avg       0.99      0.99      0.99       450\n",
            "weighted avg       0.99      0.99      0.99       450\n",
            "\n",
            "\n",
            "Confusion matrix: \n",
            " [[53  0  0  0  1  0  0  0  0  0]\n",
            " [ 0 42  0  0  0  0  0  0  0  0]\n",
            " [ 0  0 43  0  0  0  0  0  0  0]\n",
            " [ 0  0  0 40  0  2  0  0  0  0]\n",
            " [ 0  0  0  0 47  0  0  0  0  0]\n",
            " [ 0  0  0  0  0 42  1  0  0  0]\n",
            " [ 0  0  0  0  0  0 45  0  1  0]\n",
            " [ 0  0  0  0  0  0  0 42  0  0]\n",
            " [ 0  0  0  0  0  0  0  0 43  0]\n",
            " [ 0  0  0  0  0  0  0  0  1 47]]\n",
            "\n",
            "\n",
            "Accuracy:  0.9866666666666667\n"
          ]
        }
      ]
    },
    {
      "cell_type": "code",
      "source": [
        "#Linear: 0.98\n",
        "#RBF: 0.9888888888888889\n",
        "#Polynomial: 0.9866666666666667"
      ],
      "metadata": {
        "id": "3KRqWRqeSZdp"
      },
      "execution_count": null,
      "outputs": []
    }
  ]
}