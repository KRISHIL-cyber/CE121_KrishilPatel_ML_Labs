{
  "nbformat": 4,
  "nbformat_minor": 0,
  "metadata": {
    "colab": {
      "name": "CE121_Lab2.ipynb",
      "provenance": [],
      "collapsed_sections": []
    },
    "kernelspec": {
      "name": "python3",
      "display_name": "Python 3"
    },
    "language_info": {
      "name": "python"
    }
  },
  "cells": [
    {
      "cell_type": "code",
      "execution_count": null,
      "metadata": {
        "colab": {
          "base_uri": "https://localhost:8080/"
        },
        "id": "j72Z9HIqxhIr",
        "outputId": "72f76548-ea0d-4716-ac31-02dd5a2feb72"
      },
      "outputs": [
        {
          "output_type": "stream",
          "name": "stdout",
          "text": [
            "Mounted at /content/drive\n"
          ]
        }
      ],
      "source": [
        "from google.colab import drive\n",
        "drive.mount('/content/drive')"
      ]
    },
    {
      "cell_type": "code",
      "source": [
        "import numpy as np\n",
        "import pandas as pd\n",
        "from sklearn.preprocessing import MinMaxScaler, StandardScaler\n",
        "from sklearn.impute import SimpleImputer\n",
        "from sklearn.preprocessing import LabelEncoder\n",
        "import seaborn as sb"
      ],
      "metadata": {
        "id": "AGq-Y42KyD6k"
      },
      "execution_count": null,
      "outputs": []
    },
    {
      "cell_type": "code",
      "source": [
        ""
      ],
      "metadata": {
        "id": "opDtWYJFy-Xm"
      },
      "execution_count": null,
      "outputs": []
    },
    {
      "cell_type": "markdown",
      "source": [
        "#Load Data"
      ],
      "metadata": {
        "id": "pTY1ZFu9zCuK"
      }
    },
    {
      "cell_type": "code",
      "source": [
        "dataset= pd.read_csv('/content/drive/MyDrive/Exercise-CarData.csv')\n",
        "print(\"Data: \\n\", dataset)\n",
        "print(\"Data Statistics: \\n\", dataset.describe())"
      ],
      "metadata": {
        "colab": {
          "base_uri": "https://localhost:8080/"
        },
        "id": "1k7GmI00yezc",
        "outputId": "5c38f639-c1d6-4dbf-e677-5564acd19064"
      },
      "execution_count": null,
      "outputs": [
        {
          "output_type": "stream",
          "name": "stdout",
          "text": [
            "Data: \n",
            "       Unnamed: 0  Price   Age     KM  ... Automatic    CC  Doors  Weight\n",
            "0              0  13500  23.0  46986  ...         0  2000  three    1165\n",
            "1              1  13750  23.0  72937  ...         0  2000      3    1165\n",
            "2              2  13950  24.0  41711  ...         0  2000      3    1165\n",
            "3              3  14950  26.0  48000  ...         0  2000      3    1165\n",
            "4              4  13750  30.0  38500  ...         0  2000      3    1170\n",
            "...          ...    ...   ...    ...  ...       ...   ...    ...     ...\n",
            "1431        1431   7500   NaN  20544  ...         0  1300      3    1025\n",
            "1432        1432  10845  72.0     ??  ...         0  1300      3    1015\n",
            "1433        1433   8500   NaN  17016  ...         0  1300      3    1015\n",
            "1434        1434   7250  70.0     ??  ...         0  1300      3    1015\n",
            "1435        1435   6950  76.0      1  ...         0  1600      5    1114\n",
            "\n",
            "[1436 rows x 11 columns]\n",
            "Data Statistics: \n",
            "         Unnamed: 0         Price  ...           CC      Weight\n",
            "count  1436.000000   1436.000000  ...  1436.000000  1436.00000\n",
            "mean    717.500000  10730.824513  ...  1566.827994  1072.45961\n",
            "std     414.681806   3626.964585  ...   187.182436    52.64112\n",
            "min       0.000000   4350.000000  ...  1300.000000  1000.00000\n",
            "25%     358.750000   8450.000000  ...  1400.000000  1040.00000\n",
            "50%     717.500000   9900.000000  ...  1600.000000  1070.00000\n",
            "75%    1076.250000  11950.000000  ...  1600.000000  1085.00000\n",
            "max    1435.000000  32500.000000  ...  2000.000000  1615.00000\n",
            "\n",
            "[8 rows x 7 columns]\n"
          ]
        }
      ]
    },
    {
      "cell_type": "code",
      "source": [
        ""
      ],
      "metadata": {
        "id": "0_DyWprDzU3f"
      },
      "execution_count": null,
      "outputs": []
    },
    {
      "cell_type": "code",
      "source": [
        ""
      ],
      "metadata": {
        "id": "PTPM9jdE0IqS"
      },
      "execution_count": null,
      "outputs": []
    },
    {
      "cell_type": "markdown",
      "source": [
        "# Applying Label encoder to convert string to numbers"
      ],
      "metadata": {
        "id": "4aoS1GG50KJt"
      }
    },
    {
      "cell_type": "code",
      "source": [
        "dataset['KM'].replace('??', np.NaN, inplace=True)\n",
        "dataset['HP'].replace('????',np.NaN, inplace=True)\n",
        "dataset['Doors'].replace('three','3',inplace=True)\n",
        "dataset['Doors'].replace('four','4',inplace=True)\n",
        "dataset['Doors'].replace('five','5',inplace=True)"
      ],
      "metadata": {
        "id": "qUUjTP4u8azL"
      },
      "execution_count": null,
      "outputs": []
    },
    {
      "cell_type": "code",
      "source": [
        "new_X= dataset.iloc[:,1:-1].values\n",
        "new_Y= dataset.iloc[:, -1].values\n",
        "\n",
        "#FuelType\n",
        "new_X[:,3]=new_X[:,3].astype('str')\n",
        "\n",
        "le= LabelEncoder()\n",
        "new_X[:, 3]= le.fit_transform(new_X[:, 3])\n",
        "\n",
        "print(new_X[:,3])"
      ],
      "metadata": {
        "colab": {
          "base_uri": "https://localhost:8080/"
        },
        "id": "U4T4BOKu0U9S",
        "outputId": "320b5437-81fd-46ce-a01d-86d67e5d01e4"
      },
      "execution_count": null,
      "outputs": [
        {
          "output_type": "stream",
          "name": "stdout",
          "text": [
            "[1 1 1 ... 2 3 2]\n"
          ]
        }
      ]
    },
    {
      "cell_type": "code",
      "source": [
        ""
      ],
      "metadata": {
        "id": "nMv8p9va1eXd"
      },
      "execution_count": null,
      "outputs": []
    },
    {
      "cell_type": "markdown",
      "source": [
        "# Handling Null Values"
      ],
      "metadata": {
        "id": "2aucHynF18wo"
      }
    },
    {
      "cell_type": "code",
      "source": [
        "print(dataset.info())"
      ],
      "metadata": {
        "colab": {
          "base_uri": "https://localhost:8080/"
        },
        "id": "VHkx9Y0Y2BIY",
        "outputId": "023f71f9-3d59-4e6f-f6dc-28d4e6b9d54d"
      },
      "execution_count": null,
      "outputs": [
        {
          "output_type": "stream",
          "name": "stdout",
          "text": [
            "<class 'pandas.core.frame.DataFrame'>\n",
            "RangeIndex: 1436 entries, 0 to 1435\n",
            "Data columns (total 11 columns):\n",
            " #   Column      Non-Null Count  Dtype  \n",
            "---  ------      --------------  -----  \n",
            " 0   Unnamed: 0  1436 non-null   int64  \n",
            " 1   Price       1436 non-null   int64  \n",
            " 2   Age         1336 non-null   float64\n",
            " 3   KM          1421 non-null   object \n",
            " 4   FuelType    1336 non-null   object \n",
            " 5   HP          1430 non-null   object \n",
            " 6   MetColor    1286 non-null   float64\n",
            " 7   Automatic   1436 non-null   int64  \n",
            " 8   CC          1436 non-null   int64  \n",
            " 9   Doors       1436 non-null   object \n",
            " 10  Weight      1436 non-null   int64  \n",
            "dtypes: float64(2), int64(5), object(4)\n",
            "memory usage: 123.5+ KB\n",
            "None\n"
          ]
        }
      ]
    },
    {
      "cell_type": "code",
      "source": [
        "imputer = SimpleImputer(missing_values = np.nan,strategy = \"mean\")\n",
        "mode_imputer = SimpleImputer(missing_values = np.nan,strategy = \"most_frequent\")\n",
        "\n",
        "# Fitting the data, function learns the stats \n",
        "the_imputer = imputer.fit(new_X[:, 0:3])\n",
        "\n",
        "# fit_transform() will execute those stats on the input ie. X[:, 1:3] \n",
        "new_X[:, 0:3] = the_imputer.transform(new_X[:, 0:3])\n",
        "\n",
        "# Fitting the data, function learns the stats \n",
        "the_mode_imputer = mode_imputer.fit(new_X[:, 3:4])   \n",
        "new_X[:, 3:4] = the_mode_imputer.transform(new_X[:, 3:4])\n",
        "\n",
        "# Fitting the data, function learns the stats \n",
        "the_imputer = imputer.fit(new_X[:, 4:5])\n",
        "new_X[:, 4:5] = the_imputer.transform(new_X[:, 4:5])\n",
        "\n",
        "# Fitting the data, function learns the stats \n",
        "the_mode_imputer = mode_imputer.fit(new_X[:, 5:6])   \n",
        "new_X[:, 5:6] = the_mode_imputer.transform(new_X[:, 5:6])\n",
        "\n",
        "# filling the missing value with mean \n",
        "print(\"\\nNew Input After Imputation : \\n\\n\", new_X)"
      ],
      "metadata": {
        "colab": {
          "base_uri": "https://localhost:8080/"
        },
        "id": "zlLdKzSM5dL0",
        "outputId": "031a50f2-25b7-43f8-a72f-b69a107b30bf"
      },
      "execution_count": null,
      "outputs": [
        {
          "output_type": "stream",
          "name": "stdout",
          "text": [
            "\n",
            "New Input After Imputation : \n",
            "\n",
            " [[13500.0 23.0 46986.0 ... 0 2000 '3']\n",
            " [13750.0 23.0 72937.0 ... 0 2000 '3']\n",
            " [13950.0 24.0 41711.0 ... 0 2000 '3']\n",
            " ...\n",
            " [8500.0 55.67215568862275 17016.0 ... 0 1300 '3']\n",
            " [7250.0 70.0 68647.23997185081 ... 0 1300 '3']\n",
            " [6950.0 76.0 1.0 ... 0 1600 '5']]\n"
          ]
        }
      ]
    },
    {
      "cell_type": "code",
      "source": [
        "new_dataset = pd.DataFrame(new_X,columns=dataset.columns[1:-1])\n",
        "new_dataset = new_dataset.astype(float)\n",
        "new_dataset.dtypes"
      ],
      "metadata": {
        "colab": {
          "base_uri": "https://localhost:8080/"
        },
        "id": "_cGmjc5N5iUP",
        "outputId": "2bc85fdb-b1c5-4b97-b211-d40d59d95f00"
      },
      "execution_count": null,
      "outputs": [
        {
          "output_type": "execute_result",
          "data": {
            "text/plain": [
              "Price        float64\n",
              "Age          float64\n",
              "KM           float64\n",
              "FuelType     float64\n",
              "HP           float64\n",
              "MetColor     float64\n",
              "Automatic    float64\n",
              "CC           float64\n",
              "Doors        float64\n",
              "dtype: object"
            ]
          },
          "metadata": {},
          "execution_count": 8
        }
      ]
    },
    {
      "cell_type": "code",
      "source": [
        ""
      ],
      "metadata": {
        "id": "Cml-q-5m9KWJ"
      },
      "execution_count": null,
      "outputs": []
    },
    {
      "cell_type": "markdown",
      "source": [
        "# Feature Selection"
      ],
      "metadata": {
        "id": "K4-fKK2N9qE-"
      }
    },
    {
      "cell_type": "code",
      "source": [
        "corr = new_dataset.corr()\n",
        "print(corr.head())\n",
        "sb.heatmap(corr)"
      ],
      "metadata": {
        "colab": {
          "base_uri": "https://localhost:8080/",
          "height": 466
        },
        "id": "-c4HkNkR9uOl",
        "outputId": "f567720b-9157-4ebf-d4b9-7d5025f77ee1"
      },
      "execution_count": null,
      "outputs": [
        {
          "output_type": "stream",
          "name": "stdout",
          "text": [
            "             Price       Age        KM  ...  Automatic        CC     Doors\n",
            "Price     1.000000 -0.845111 -0.565016  ...   0.033081  0.165067  0.185326\n",
            "Age      -0.845111  1.000000  0.495199  ...   0.030931 -0.116255 -0.151785\n",
            "KM       -0.565016  0.495199  1.000000  ...  -0.080743  0.296281 -0.036021\n",
            "FuelType  0.022730  0.033599 -0.356238  ...   0.073860 -0.499114 -0.018434\n",
            "HP        0.308414 -0.152946 -0.332984  ...   0.013753  0.053466  0.096938\n",
            "\n",
            "[5 rows x 9 columns]\n"
          ]
        },
        {
          "output_type": "execute_result",
          "data": {
            "text/plain": [
              "<matplotlib.axes._subplots.AxesSubplot at 0x7f6cf2b143d0>"
            ]
          },
          "metadata": {},
          "execution_count": 9
        },
        {
          "output_type": "display_data",
          "data": {
            "image/png": "[encoded data removed]",
            "text/plain": [
              "<Figure size 432x288 with 2 Axes>"
            ]
          },
          "metadata": {
            "needs_background": "light"
          }
        }
      ]
    },
    {
      "cell_type": "code",
      "source": [
        "columns = np.full((len(new_dataset.columns),), True, dtype=bool)\n",
        "for i in range(corr.shape[0]):\n",
        "    for j in range(i+1, corr.shape[0]):\n",
        "        if corr.iloc[i,j] >= 0.9:\n",
        "            if columns[j]:\n",
        "                columns[j] = False\n",
        "\n",
        "selected_columns = new_dataset.columns[columns]\n",
        "selected_columns.shape\n",
        "print(\"Selected Columns :- \\n\\n\",selected_columns)\n",
        "\n",
        "new_dataset = new_dataset[selected_columns]\n",
        "print(\"\\n\\nNew Data :- \\n\\n\",new_dataset)"
      ],
      "metadata": {
        "colab": {
          "base_uri": "https://localhost:8080/"
        },
        "id": "s4dM1r-Z9y7y",
        "outputId": "0ce2c132-a55b-4be8-dcc4-539d0b2aa3cf"
      },
      "execution_count": null,
      "outputs": [
        {
          "output_type": "stream",
          "name": "stdout",
          "text": [
            "Selected Columns :- \n",
            "\n",
            " Index(['Price', 'Age', 'KM', 'FuelType', 'HP', 'MetColor', 'Automatic', 'CC',\n",
            "       'Doors'],\n",
            "      dtype='object')\n",
            "\n",
            "\n",
            "New Data :- \n",
            "\n",
            "         Price        Age            KM  ...  Automatic      CC  Doors\n",
            "0     13500.0  23.000000  46986.000000  ...        0.0  2000.0    3.0\n",
            "1     13750.0  23.000000  72937.000000  ...        0.0  2000.0    3.0\n",
            "2     13950.0  24.000000  41711.000000  ...        0.0  2000.0    3.0\n",
            "3     14950.0  26.000000  48000.000000  ...        0.0  2000.0    3.0\n",
            "4     13750.0  30.000000  38500.000000  ...        0.0  2000.0    3.0\n",
            "...       ...        ...           ...  ...        ...     ...    ...\n",
            "1431   7500.0  55.672156  20544.000000  ...        0.0  1300.0    3.0\n",
            "1432  10845.0  72.000000  68647.239972  ...        0.0  1300.0    3.0\n",
            "1433   8500.0  55.672156  17016.000000  ...        0.0  1300.0    3.0\n",
            "1434   7250.0  70.000000  68647.239972  ...        0.0  1300.0    3.0\n",
            "1435   6950.0  76.000000      1.000000  ...        0.0  1600.0    5.0\n",
            "\n",
            "[1436 rows x 9 columns]\n"
          ]
        }
      ]
    },
    {
      "cell_type": "code",
      "source": [
        ""
      ],
      "metadata": {
        "id": "U4rHoyENKTcM"
      },
      "execution_count": null,
      "outputs": []
    },
    {
      "cell_type": "markdown",
      "source": [
        "# Data Transformation"
      ],
      "metadata": {
        "id": "2kctsQ_LKa8a"
      }
    },
    {
      "cell_type": "code",
      "source": [
        "new_X = new_dataset.iloc[:, :-1].values\n",
        "scaler = MinMaxScaler()\n",
        "std = StandardScaler()\n",
        "new_X[:,0:3] = std.fit_transform(scaler.fit_transform(new_X[:,0:3]))\n",
        "new_X[:,4:5] = std.fit_transform(scaler.fit_transform(new_X[:,4:5]))\n",
        "new_X[:,7:9] = std.fit_transform(scaler.fit_transform(new_X[:,7:9]))\n",
        "print(\"Dataset after preprocessing\\n\\n\",new_dataset)"
      ],
      "metadata": {
        "colab": {
          "base_uri": "https://localhost:8080/"
        },
        "id": "V03gYnmCKgcQ",
        "outputId": "b4f05108-647a-40ff-d94a-361728a46be7"
      },
      "execution_count": null,
      "outputs": [
        {
          "output_type": "stream",
          "name": "stdout",
          "text": [
            "Dataset after preprocessing\n",
            "\n",
            "          Price           Age        KM  ...  Automatic        CC  Doors\n",
            "0     0.763763 -1.822802e+00 -0.583476  ...        0.0  2.314976    3.0\n",
            "1     0.832715 -1.822802e+00  0.115551  ...        0.0  2.314976    3.0\n",
            "2     0.887877 -1.767012e+00 -0.725566  ...        0.0  2.314976    3.0\n",
            "3     1.163685 -1.655430e+00 -0.556163  ...        0.0  2.314976    3.0\n",
            "4     0.832715 -1.432267e+00 -0.812059  ...        0.0  2.314976    3.0\n",
            "...        ...           ...       ...  ...        ...       ...    ...\n",
            "1431 -0.891089 -4.893269e-16 -1.295729  ...        0.0 -1.425994    3.0\n",
            "1432  0.031491  9.109418e-01  0.000000  ...        0.0 -1.425994    3.0\n",
            "1433 -0.615281 -4.893269e-16 -1.390761  ...        0.0 -1.425994    3.0\n",
            "1434 -0.960042  7.993604e-01  0.000000  ...        0.0 -1.425994    3.0\n",
            "1435 -1.042784  1.134105e+00 -1.849084  ...        0.0  0.177279    5.0\n",
            "\n",
            "[1436 rows x 9 columns]\n"
          ]
        }
      ]
    },
    {
      "cell_type": "code",
      "source": [
        ""
      ],
      "metadata": {
        "id": "ou37lMkzKhNd"
      },
      "execution_count": null,
      "outputs": []
    }
  ]
}